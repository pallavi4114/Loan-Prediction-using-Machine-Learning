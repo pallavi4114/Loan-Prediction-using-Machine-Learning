{
  "metadata": {
    "kernelspec": {
      "language": "python",
      "display_name": "Python 3",
      "name": "python3"
    },
    "language_info": {
      "name": "python",
      "version": "3.7.10",
      "mimetype": "text/x-python",
      "codemirror_mode": {
        "name": "ipython",
        "version": 3
      },
      "pygments_lexer": "ipython3",
      "nbconvert_exporter": "python",
      "file_extension": ".py"
    },
    "colab": {
      "provenance": []
    }
  },
  "nbformat_minor": 0,
  "nbformat": 4,
  "cells": [
    {
      "cell_type": "markdown",
      "source": [
        "# 1. Introduction 👋\n",
        "\n",
        "\n",
        "\n",
        "👨‍💻 **The machine learning models used in this project are:**\n",
        "1. Logistic Regression\n",
        "2. K-Nearest Neighbour (KNN)\n",
        "3. Support Vector Machine (SVM)\n",
        "4. Naive Bayes\n",
        "5. Decision Tree\n",
        "6. Random Forest\n",
        "7. Gradient Boost\n",
        "\n",
        "---\n",
        "\n",
        "## Data Set Description 🧾\n",
        "👉 There are **13 variables** in this data set:\n",
        "*   **8 categorical** variables,\n",
        "*   **4 continuous** variables, and\n",
        "*   **1** variable to accommodate the loan ID.\n",
        "\n",
        "<br>\n",
        "\n",
        "👉 The following is the **structure of the data set**.\n",
        "\n",
        "\n",
        "<table style=\"width:100%\">\n",
        "<thead>\n",
        "<tr>\n",
        "<th style=\"text-align:center; font-weight: bold; font-size:14px\">Variable Name</th>\n",
        "<th style=\"text-align:center; font-weight: bold; font-size:14px\">Description</th>\n",
        "<th style=\"text-align:center; font-weight: bold; font-size:14px\">Sample Data</th>\n",
        "</tr>\n",
        "</thead>\n",
        "<tbody>\n",
        "<tr>\n",
        "<td><b>Loan_ID</b></td>\n",
        "<td>Loan reference number <br> (unique ID)</td>\n",
        "<td>LP001002; LP001003; ...</td>\n",
        "</tr>\n",
        "<tr>\n",
        "<td><b>Gender</b></td>\n",
        "<td>Applicant gender <br> (Male or Female)</td>\n",
        "<td>Male; Female</td>\n",
        "</tr>\n",
        "<tr>\n",
        "<td><b>Married</b></td>\n",
        "<td>Applicant marital status <br> (Married or not married)</td>\n",
        "<td>Married; Not Married</td>\n",
        "</tr>\n",
        "<tr>\n",
        "<td><b>Dependents</b></td>\n",
        "<td>Number of family members</td>\n",
        "<td>0; 1; 2; 3+</td>\n",
        "</tr>\n",
        "<tr>\n",
        "<td><b>Education</b></td>\n",
        "<td>Applicant education/qualification <br> (graduate or not graduate)</td>\n",
        "<td>Graduate; Under Graduate</td>\n",
        "</tr>\n",
        "<tr>\n",
        "<td><b>Self_Employed</b></td>\n",
        "<td>Applicant employment status <br> (yes for self-employed, no for employed/others)</td>\n",
        "<td>Yes; No</td>\n",
        "</tr>\n",
        "<tr>\n",
        "<td><b>ApplicantIncome</b></td>\n",
        "<td>Applicant's monthly salary/income</td>\n",
        "<td>5849; 4583; ...</td>\n",
        "</tr>\n",
        "<tr>\n",
        "<td><b>CoapplicantIncome</b></td>\n",
        "<td>Additional applicant's monthly salary/income</td>\n",
        "<td>1508; 2358; ...</td>\n",
        "</tr>\n",
        "<tr>\n",
        "<td><b>LoanAmount</b></td>\n",
        "<td>Loan amount</td>\n",
        "<td>128; 66; ...</td>\n",
        "</tr>\n",
        "<tr>\n",
        "<td><b>Loan_Amount_Term</b></td>\n",
        "<td>The loan's repayment period (in days)</td>\n",
        "<td>360; 120; ...</td>\n",
        "</tr>\n",
        "<tr>\n",
        "<td><b>Credit_History</b></td>\n",
        "<td>Records of previous credit history <br> (0: bad credit history, 1: good credit history)</td>\n",
        "<td>0; 1</td>\n",
        "</tr>\n",
        "<tr>\n",
        "<td><b>Property_Area</b></td>\n",
        "<td>The location of property <br> (Rural/Semiurban/Urban)</td>\n",
        "<td>Rural; Semiurban; Urban</td>\n",
        "</tr>\n",
        "<tr>\n",
        "<td><b>Loan_Status</b></td>\n",
        "<td>Status of loan <br> (Y: accepted, N: not accepted)</td>\n",
        "<td>Y; N</td>\n",
        "</tr>\n",
        "</tbody>\n",
        "</table>\n",
        "\n",
        "---\n"
      ],
      "metadata": {
        "id": "fJE9JR7JSj8O"
      }
    },
    {
      "cell_type": "markdown",
      "source": [
        "# 2. Importing Libraries 📚\n",
        "👉 Importing libraries that will be used in this notebook."
      ],
      "metadata": {
        "id": "r238zFy8f-xl"
      }
    },
    {
      "cell_type": "code",
      "source": [
        "import numpy as np\n",
        "import pandas as pd\n",
        "import matplotlib.pyplot as plt\n",
        "import missingno as mso\n",
        "import seaborn as sns\n",
        "import warnings\n",
        "import os\n",
        "import scipy\n",
        "\n",
        "from scipy import stats\n",
        "from scipy.stats import pearsonr\n",
        "from scipy.stats import ttest_ind\n",
        "from sklearn.metrics import classification_report\n",
        "from sklearn.metrics import confusion_matrix\n",
        "from sklearn.preprocessing import MinMaxScaler\n",
        "from sklearn.model_selection import train_test_split\n",
        "from imblearn.over_sampling import SMOTE\n",
        "\n",
        "from sklearn.linear_model import LogisticRegression\n",
        "from sklearn.neighbors import KNeighborsClassifier\n",
        "from sklearn.svm import SVC\n",
        "from sklearn.naive_bayes import CategoricalNB\n",
        "from sklearn.naive_bayes import GaussianNB\n",
        "from sklearn.tree import DecisionTreeClassifier\n",
        "from sklearn.ensemble import RandomForestClassifier\n",
        "from sklearn.ensemble import GradientBoostingClassifier\n",
        "from xgboost import XGBClassifier\n",
        "from sklearn.model_selection import GridSearchCV, RandomizedSearchCV"
      ],
      "metadata": {
        "id": "0tAGJPoeKrfI",
        "execution": {
          "iopub.status.busy": "2022-03-08T02:28:35.419717Z",
          "iopub.execute_input": "2022-03-08T02:28:35.420087Z",
          "iopub.status.idle": "2022-03-08T02:28:36.954209Z",
          "shell.execute_reply.started": "2022-03-08T02:28:35.419989Z",
          "shell.execute_reply": "2022-03-08T02:28:36.953237Z"
        },
        "trusted": true
      },
      "execution_count": 1,
      "outputs": []
    },
    {
      "cell_type": "markdown",
      "source": [
        "# 3. Reading Data Set 👓\n",
        "👉 After importing libraries, we will also import the dataset that will be used."
      ],
      "metadata": {
        "id": "_3IOljdqgEd0"
      }
    },
    {
      "cell_type": "code",
      "source": [
        "df = pd.read_csv(\"../content/train_u6lujuX_CVtuZ9i (1).csv\")\n",
        "df.head()"
      ],
      "metadata": {
        "id": "-9VxuECvXJIR",
        "outputId": "63fb8d18-f72b-4c3d-c4c7-4a76c12b5d8e",
        "execution": {
          "iopub.status.busy": "2022-03-08T02:28:36.956629Z",
          "iopub.execute_input": "2022-03-08T02:28:36.957588Z",
          "iopub.status.idle": "2022-03-08T02:28:37.002723Z",
          "shell.execute_reply.started": "2022-03-08T02:28:36.957530Z",
          "shell.execute_reply": "2022-03-08T02:28:37.001806Z"
        },
        "trusted": true,
        "colab": {
          "base_uri": "https://localhost:8080/",
          "height": 244
        }
      },
      "execution_count": 3,
      "outputs": [
        {
          "output_type": "execute_result",
          "data": {
            "text/plain": [
              "    Loan_ID Gender Married Dependents     Education Self_Employed  \\\n",
              "0  LP001002   Male      No          0      Graduate            No   \n",
              "1  LP001003   Male     Yes          1      Graduate            No   \n",
              "2  LP001005   Male     Yes          0      Graduate           Yes   \n",
              "3  LP001006   Male     Yes          0  Not Graduate            No   \n",
              "4  LP001008   Male      No          0      Graduate            No   \n",
              "\n",
              "   ApplicantIncome  CoapplicantIncome  LoanAmount  Loan_Amount_Term  \\\n",
              "0             5849                0.0         NaN             360.0   \n",
              "1             4583             1508.0       128.0             360.0   \n",
              "2             3000                0.0        66.0             360.0   \n",
              "3             2583             2358.0       120.0             360.0   \n",
              "4             6000                0.0       141.0             360.0   \n",
              "\n",
              "   Credit_History Property_Area Loan_Status  \n",
              "0             1.0         Urban           Y  \n",
              "1             1.0         Rural           N  \n",
              "2             1.0         Urban           Y  \n",
              "3             1.0         Urban           Y  \n",
              "4             1.0         Urban           Y  "
            ],
            "text/html": [
              "\n",
              "  <div id=\"df-e4d14d4c-94d0-40cf-9a9b-104fa2d60aa8\" class=\"colab-df-container\">\n",
              "    <div>\n",
              "<style scoped>\n",
              "    .dataframe tbody tr th:only-of-type {\n",
              "        vertical-align: middle;\n",
              "    }\n",
              "\n",
              "    .dataframe tbody tr th {\n",
              "        vertical-align: top;\n",
              "    }\n",
              "\n",
              "    .dataframe thead th {\n",
              "        text-align: right;\n",
              "    }\n",
              "</style>\n",
              "<table border=\"1\" class=\"dataframe\">\n",
              "  <thead>\n",
              "    <tr style=\"text-align: right;\">\n",
              "      <th></th>\n",
              "      <th>Loan_ID</th>\n",
              "      <th>Gender</th>\n",
              "      <th>Married</th>\n",
              "      <th>Dependents</th>\n",
              "      <th>Education</th>\n",
              "      <th>Self_Employed</th>\n",
              "      <th>ApplicantIncome</th>\n",
              "      <th>CoapplicantIncome</th>\n",
              "      <th>LoanAmount</th>\n",
              "      <th>Loan_Amount_Term</th>\n",
              "      <th>Credit_History</th>\n",
              "      <th>Property_Area</th>\n",
              "      <th>Loan_Status</th>\n",
              "    </tr>\n",
              "  </thead>\n",
              "  <tbody>\n",
              "    <tr>\n",
              "      <th>0</th>\n",
              "      <td>LP001002</td>\n",
              "      <td>Male</td>\n",
              "      <td>No</td>\n",
              "      <td>0</td>\n",
              "      <td>Graduate</td>\n",
              "      <td>No</td>\n",
              "      <td>5849</td>\n",
              "      <td>0.0</td>\n",
              "      <td>NaN</td>\n",
              "      <td>360.0</td>\n",
              "      <td>1.0</td>\n",
              "      <td>Urban</td>\n",
              "      <td>Y</td>\n",
              "    </tr>\n",
              "    <tr>\n",
              "      <th>1</th>\n",
              "      <td>LP001003</td>\n",
              "      <td>Male</td>\n",
              "      <td>Yes</td>\n",
              "      <td>1</td>\n",
              "      <td>Graduate</td>\n",
              "      <td>No</td>\n",
              "      <td>4583</td>\n",
              "      <td>1508.0</td>\n",
              "      <td>128.0</td>\n",
              "      <td>360.0</td>\n",
              "      <td>1.0</td>\n",
              "      <td>Rural</td>\n",
              "      <td>N</td>\n",
              "    </tr>\n",
              "    <tr>\n",
              "      <th>2</th>\n",
              "      <td>LP001005</td>\n",
              "      <td>Male</td>\n",
              "      <td>Yes</td>\n",
              "      <td>0</td>\n",
              "      <td>Graduate</td>\n",
              "      <td>Yes</td>\n",
              "      <td>3000</td>\n",
              "      <td>0.0</td>\n",
              "      <td>66.0</td>\n",
              "      <td>360.0</td>\n",
              "      <td>1.0</td>\n",
              "      <td>Urban</td>\n",
              "      <td>Y</td>\n",
              "    </tr>\n",
              "    <tr>\n",
              "      <th>3</th>\n",
              "      <td>LP001006</td>\n",
              "      <td>Male</td>\n",
              "      <td>Yes</td>\n",
              "      <td>0</td>\n",
              "      <td>Not Graduate</td>\n",
              "      <td>No</td>\n",
              "      <td>2583</td>\n",
              "      <td>2358.0</td>\n",
              "      <td>120.0</td>\n",
              "      <td>360.0</td>\n",
              "      <td>1.0</td>\n",
              "      <td>Urban</td>\n",
              "      <td>Y</td>\n",
              "    </tr>\n",
              "    <tr>\n",
              "      <th>4</th>\n",
              "      <td>LP001008</td>\n",
              "      <td>Male</td>\n",
              "      <td>No</td>\n",
              "      <td>0</td>\n",
              "      <td>Graduate</td>\n",
              "      <td>No</td>\n",
              "      <td>6000</td>\n",
              "      <td>0.0</td>\n",
              "      <td>141.0</td>\n",
              "      <td>360.0</td>\n",
              "      <td>1.0</td>\n",
              "      <td>Urban</td>\n",
              "      <td>Y</td>\n",
              "    </tr>\n",
              "  </tbody>\n",
              "</table>\n",
              "</div>\n",
              "    <div class=\"colab-df-buttons\">\n",
              "\n",
              "  <div class=\"colab-df-container\">\n",
              "    <button class=\"colab-df-convert\" onclick=\"convertToInteractive('df-e4d14d4c-94d0-40cf-9a9b-104fa2d60aa8')\"\n",
              "            title=\"Convert this dataframe to an interactive table.\"\n",
              "            style=\"display:none;\">\n",
              "\n",
              "  <svg xmlns=\"http://www.w3.org/2000/svg\" height=\"24px\" viewBox=\"0 -960 960 960\">\n",
              "    <path d=\"M120-120v-720h720v720H120Zm60-500h600v-160H180v160Zm220 220h160v-160H400v160Zm0 220h160v-160H400v160ZM180-400h160v-160H180v160Zm440 0h160v-160H620v160ZM180-180h160v-160H180v160Zm440 0h160v-160H620v160Z\"/>\n",
              "  </svg>\n",
              "    </button>\n",
              "\n",
              "  <style>\n",
              "    .colab-df-container {\n",
              "      display:flex;\n",
              "      gap: 12px;\n",
              "    }\n",
              "\n",
              "    .colab-df-convert {\n",
              "      background-color: #E8F0FE;\n",
              "      border: none;\n",
              "      border-radius: 50%;\n",
              "      cursor: pointer;\n",
              "      display: none;\n",
              "      fill: #1967D2;\n",
              "      height: 32px;\n",
              "      padding: 0 0 0 0;\n",
              "      width: 32px;\n",
              "    }\n",
              "\n",
              "    .colab-df-convert:hover {\n",
              "      background-color: #E2EBFA;\n",
              "      box-shadow: 0px 1px 2px rgba(60, 64, 67, 0.3), 0px 1px 3px 1px rgba(60, 64, 67, 0.15);\n",
              "      fill: #174EA6;\n",
              "    }\n",
              "\n",
              "    .colab-df-buttons div {\n",
              "      margin-bottom: 4px;\n",
              "    }\n",
              "\n",
              "    [theme=dark] .colab-df-convert {\n",
              "      background-color: #3B4455;\n",
              "      fill: #D2E3FC;\n",
              "    }\n",
              "\n",
              "    [theme=dark] .colab-df-convert:hover {\n",
              "      background-color: #434B5C;\n",
              "      box-shadow: 0px 1px 3px 1px rgba(0, 0, 0, 0.15);\n",
              "      filter: drop-shadow(0px 1px 2px rgba(0, 0, 0, 0.3));\n",
              "      fill: #FFFFFF;\n",
              "    }\n",
              "  </style>\n",
              "\n",
              "    <script>\n",
              "      const buttonEl =\n",
              "        document.querySelector('#df-e4d14d4c-94d0-40cf-9a9b-104fa2d60aa8 button.colab-df-convert');\n",
              "      buttonEl.style.display =\n",
              "        google.colab.kernel.accessAllowed ? 'block' : 'none';\n",
              "\n",
              "      async function convertToInteractive(key) {\n",
              "        const element = document.querySelector('#df-e4d14d4c-94d0-40cf-9a9b-104fa2d60aa8');\n",
              "        const dataTable =\n",
              "          await google.colab.kernel.invokeFunction('convertToInteractive',\n",
              "                                                    [key], {});\n",
              "        if (!dataTable) return;\n",
              "\n",
              "        const docLinkHtml = 'Like what you see? Visit the ' +\n",
              "          '<a target=\"_blank\" href=https://colab.research.google.com/notebooks/data_table.ipynb>data table notebook</a>'\n",
              "          + ' to learn more about interactive tables.';\n",
              "        element.innerHTML = '';\n",
              "        dataTable['output_type'] = 'display_data';\n",
              "        await google.colab.output.renderOutput(dataTable, element);\n",
              "        const docLink = document.createElement('div');\n",
              "        docLink.innerHTML = docLinkHtml;\n",
              "        element.appendChild(docLink);\n",
              "      }\n",
              "    </script>\n",
              "  </div>\n",
              "\n",
              "\n",
              "<div id=\"df-1e586604-feee-4697-8376-892427ae7fec\">\n",
              "  <button class=\"colab-df-quickchart\" onclick=\"quickchart('df-1e586604-feee-4697-8376-892427ae7fec')\"\n",
              "            title=\"Suggest charts\"\n",
              "            style=\"display:none;\">\n",
              "\n",
              "<svg xmlns=\"http://www.w3.org/2000/svg\" height=\"24px\"viewBox=\"0 0 24 24\"\n",
              "     width=\"24px\">\n",
              "    <g>\n",
              "        <path d=\"M19 3H5c-1.1 0-2 .9-2 2v14c0 1.1.9 2 2 2h14c1.1 0 2-.9 2-2V5c0-1.1-.9-2-2-2zM9 17H7v-7h2v7zm4 0h-2V7h2v10zm4 0h-2v-4h2v4z\"/>\n",
              "    </g>\n",
              "</svg>\n",
              "  </button>\n",
              "\n",
              "<style>\n",
              "  .colab-df-quickchart {\n",
              "      --bg-color: #E8F0FE;\n",
              "      --fill-color: #1967D2;\n",
              "      --hover-bg-color: #E2EBFA;\n",
              "      --hover-fill-color: #174EA6;\n",
              "      --disabled-fill-color: #AAA;\n",
              "      --disabled-bg-color: #DDD;\n",
              "  }\n",
              "\n",
              "  [theme=dark] .colab-df-quickchart {\n",
              "      --bg-color: #3B4455;\n",
              "      --fill-color: #D2E3FC;\n",
              "      --hover-bg-color: #434B5C;\n",
              "      --hover-fill-color: #FFFFFF;\n",
              "      --disabled-bg-color: #3B4455;\n",
              "      --disabled-fill-color: #666;\n",
              "  }\n",
              "\n",
              "  .colab-df-quickchart {\n",
              "    background-color: var(--bg-color);\n",
              "    border: none;\n",
              "    border-radius: 50%;\n",
              "    cursor: pointer;\n",
              "    display: none;\n",
              "    fill: var(--fill-color);\n",
              "    height: 32px;\n",
              "    padding: 0;\n",
              "    width: 32px;\n",
              "  }\n",
              "\n",
              "  .colab-df-quickchart:hover {\n",
              "    background-color: var(--hover-bg-color);\n",
              "    box-shadow: 0 1px 2px rgba(60, 64, 67, 0.3), 0 1px 3px 1px rgba(60, 64, 67, 0.15);\n",
              "    fill: var(--button-hover-fill-color);\n",
              "  }\n",
              "\n",
              "  .colab-df-quickchart-complete:disabled,\n",
              "  .colab-df-quickchart-complete:disabled:hover {\n",
              "    background-color: var(--disabled-bg-color);\n",
              "    fill: var(--disabled-fill-color);\n",
              "    box-shadow: none;\n",
              "  }\n",
              "\n",
              "  .colab-df-spinner {\n",
              "    border: 2px solid var(--fill-color);\n",
              "    border-color: transparent;\n",
              "    border-bottom-color: var(--fill-color);\n",
              "    animation:\n",
              "      spin 1s steps(1) infinite;\n",
              "  }\n",
              "\n",
              "  @keyframes spin {\n",
              "    0% {\n",
              "      border-color: transparent;\n",
              "      border-bottom-color: var(--fill-color);\n",
              "      border-left-color: var(--fill-color);\n",
              "    }\n",
              "    20% {\n",
              "      border-color: transparent;\n",
              "      border-left-color: var(--fill-color);\n",
              "      border-top-color: var(--fill-color);\n",
              "    }\n",
              "    30% {\n",
              "      border-color: transparent;\n",
              "      border-left-color: var(--fill-color);\n",
              "      border-top-color: var(--fill-color);\n",
              "      border-right-color: var(--fill-color);\n",
              "    }\n",
              "    40% {\n",
              "      border-color: transparent;\n",
              "      border-right-color: var(--fill-color);\n",
              "      border-top-color: var(--fill-color);\n",
              "    }\n",
              "    60% {\n",
              "      border-color: transparent;\n",
              "      border-right-color: var(--fill-color);\n",
              "    }\n",
              "    80% {\n",
              "      border-color: transparent;\n",
              "      border-right-color: var(--fill-color);\n",
              "      border-bottom-color: var(--fill-color);\n",
              "    }\n",
              "    90% {\n",
              "      border-color: transparent;\n",
              "      border-bottom-color: var(--fill-color);\n",
              "    }\n",
              "  }\n",
              "</style>\n",
              "\n",
              "  <script>\n",
              "    async function quickchart(key) {\n",
              "      const quickchartButtonEl =\n",
              "        document.querySelector('#' + key + ' button');\n",
              "      quickchartButtonEl.disabled = true;  // To prevent multiple clicks.\n",
              "      quickchartButtonEl.classList.add('colab-df-spinner');\n",
              "      try {\n",
              "        const charts = await google.colab.kernel.invokeFunction(\n",
              "            'suggestCharts', [key], {});\n",
              "      } catch (error) {\n",
              "        console.error('Error during call to suggestCharts:', error);\n",
              "      }\n",
              "      quickchartButtonEl.classList.remove('colab-df-spinner');\n",
              "      quickchartButtonEl.classList.add('colab-df-quickchart-complete');\n",
              "    }\n",
              "    (() => {\n",
              "      let quickchartButtonEl =\n",
              "        document.querySelector('#df-1e586604-feee-4697-8376-892427ae7fec button');\n",
              "      quickchartButtonEl.style.display =\n",
              "        google.colab.kernel.accessAllowed ? 'block' : 'none';\n",
              "    })();\n",
              "  </script>\n",
              "</div>\n",
              "\n",
              "    </div>\n",
              "  </div>\n"
            ],
            "application/vnd.google.colaboratory.intrinsic+json": {
              "type": "dataframe",
              "variable_name": "df",
              "summary": "{\n  \"name\": \"df\",\n  \"rows\": 614,\n  \"fields\": [\n    {\n      \"column\": \"Loan_ID\",\n      \"properties\": {\n        \"dtype\": \"string\",\n        \"num_unique_values\": 614,\n        \"samples\": [\n          \"LP002139\",\n          \"LP002223\",\n          \"LP001570\"\n        ],\n        \"semantic_type\": \"\",\n        \"description\": \"\"\n      }\n    },\n    {\n      \"column\": \"Gender\",\n      \"properties\": {\n        \"dtype\": \"category\",\n        \"num_unique_values\": 2,\n        \"samples\": [\n          \"Female\",\n          \"Male\"\n        ],\n        \"semantic_type\": \"\",\n        \"description\": \"\"\n      }\n    },\n    {\n      \"column\": \"Married\",\n      \"properties\": {\n        \"dtype\": \"category\",\n        \"num_unique_values\": 2,\n        \"samples\": [\n          \"Yes\",\n          \"No\"\n        ],\n        \"semantic_type\": \"\",\n        \"description\": \"\"\n      }\n    },\n    {\n      \"column\": \"Dependents\",\n      \"properties\": {\n        \"dtype\": \"category\",\n        \"num_unique_values\": 4,\n        \"samples\": [\n          \"1\",\n          \"3+\"\n        ],\n        \"semantic_type\": \"\",\n        \"description\": \"\"\n      }\n    },\n    {\n      \"column\": \"Education\",\n      \"properties\": {\n        \"dtype\": \"category\",\n        \"num_unique_values\": 2,\n        \"samples\": [\n          \"Not Graduate\",\n          \"Graduate\"\n        ],\n        \"semantic_type\": \"\",\n        \"description\": \"\"\n      }\n    },\n    {\n      \"column\": \"Self_Employed\",\n      \"properties\": {\n        \"dtype\": \"category\",\n        \"num_unique_values\": 2,\n        \"samples\": [\n          \"Yes\",\n          \"No\"\n        ],\n        \"semantic_type\": \"\",\n        \"description\": \"\"\n      }\n    },\n    {\n      \"column\": \"ApplicantIncome\",\n      \"properties\": {\n        \"dtype\": \"number\",\n        \"std\": 6109,\n        \"min\": 150,\n        \"max\": 81000,\n        \"num_unique_values\": 505,\n        \"samples\": [\n          8333,\n          4342\n        ],\n        \"semantic_type\": \"\",\n        \"description\": \"\"\n      }\n    },\n    {\n      \"column\": \"CoapplicantIncome\",\n      \"properties\": {\n        \"dtype\": \"number\",\n        \"std\": 2926.2483692241885,\n        \"min\": 0.0,\n        \"max\": 41667.0,\n        \"num_unique_values\": 287,\n        \"samples\": [\n          1840.0,\n          2042.0\n        ],\n        \"semantic_type\": \"\",\n        \"description\": \"\"\n      }\n    },\n    {\n      \"column\": \"LoanAmount\",\n      \"properties\": {\n        \"dtype\": \"number\",\n        \"std\": 85.58732523570545,\n        \"min\": 9.0,\n        \"max\": 700.0,\n        \"num_unique_values\": 203,\n        \"samples\": [\n          100.0,\n          70.0\n        ],\n        \"semantic_type\": \"\",\n        \"description\": \"\"\n      }\n    },\n    {\n      \"column\": \"Loan_Amount_Term\",\n      \"properties\": {\n        \"dtype\": \"number\",\n        \"std\": 65.12040985461256,\n        \"min\": 12.0,\n        \"max\": 480.0,\n        \"num_unique_values\": 10,\n        \"samples\": [\n          84.0,\n          120.0\n        ],\n        \"semantic_type\": \"\",\n        \"description\": \"\"\n      }\n    },\n    {\n      \"column\": \"Credit_History\",\n      \"properties\": {\n        \"dtype\": \"number\",\n        \"std\": 0.3648783192364048,\n        \"min\": 0.0,\n        \"max\": 1.0,\n        \"num_unique_values\": 2,\n        \"samples\": [\n          0.0,\n          1.0\n        ],\n        \"semantic_type\": \"\",\n        \"description\": \"\"\n      }\n    },\n    {\n      \"column\": \"Property_Area\",\n      \"properties\": {\n        \"dtype\": \"category\",\n        \"num_unique_values\": 3,\n        \"samples\": [\n          \"Urban\",\n          \"Rural\"\n        ],\n        \"semantic_type\": \"\",\n        \"description\": \"\"\n      }\n    },\n    {\n      \"column\": \"Loan_Status\",\n      \"properties\": {\n        \"dtype\": \"category\",\n        \"num_unique_values\": 2,\n        \"samples\": [\n          \"N\",\n          \"Y\"\n        ],\n        \"semantic_type\": \"\",\n        \"description\": \"\"\n      }\n    }\n  ]\n}"
            }
          },
          "metadata": {},
          "execution_count": 3
        }
      ]
    },
    {
      "cell_type": "code",
      "source": [
        "print(df.shape)"
      ],
      "metadata": {
        "id": "QLUH-tNjh1b8",
        "outputId": "7b077298-f5e0-4aaf-cec4-ff8bb303be50",
        "execution": {
          "iopub.status.busy": "2022-03-08T02:28:37.003870Z",
          "iopub.execute_input": "2022-03-08T02:28:37.004250Z",
          "iopub.status.idle": "2022-03-08T02:28:37.009217Z",
          "shell.execute_reply.started": "2022-03-08T02:28:37.004206Z",
          "shell.execute_reply": "2022-03-08T02:28:37.008333Z"
        },
        "trusted": true,
        "colab": {
          "base_uri": "https://localhost:8080/"
        }
      },
      "execution_count": 4,
      "outputs": [
        {
          "output_type": "stream",
          "name": "stdout",
          "text": [
            "(614, 13)\n"
          ]
        }
      ]
    },
    {
      "cell_type": "markdown",
      "source": [
        "👉 As can be seen, the **13 columns** are readable. It also can be seen that there are **614 observations** in the data set."
      ],
      "metadata": {
        "id": "icrmwUvviQAX"
      }
    },
    {
      "cell_type": "markdown",
      "source": [
        "# 4. Data Exploration 🔍\n",
        "👉 This section will perform data exploration of \"raw\" data set that has been imported."
      ],
      "metadata": {
        "id": "q-gxXHlThKhK"
      }
    },
    {
      "cell_type": "markdown",
      "source": [
        "## 4.1 Categorical Variable 📊\n",
        "👉 The first type of variable that I will explore is categorical variable."
      ],
      "metadata": {
        "id": "e6VEKBKohdAs"
      }
    },
    {
      "cell_type": "markdown",
      "source": [
        "### 4.1.1 Loan ID"
      ],
      "metadata": {
        "id": "R1DsvbVQi2iw"
      }
    },
    {
      "cell_type": "code",
      "source": [
        "df.Loan_ID.value_counts(dropna=False)"
      ],
      "metadata": {
        "id": "NIqCAFjRi5Bo",
        "outputId": "55715e1e-2497-4529-f3f9-c298a38d15ae",
        "execution": {
          "iopub.status.busy": "2022-03-08T02:28:37.010426Z",
          "iopub.execute_input": "2022-03-08T02:28:37.011167Z",
          "iopub.status.idle": "2022-03-08T02:28:37.030711Z",
          "shell.execute_reply.started": "2022-03-08T02:28:37.011111Z",
          "shell.execute_reply": "2022-03-08T02:28:37.029786Z"
        },
        "trusted": true,
        "colab": {
          "base_uri": "https://localhost:8080/"
        }
      },
      "execution_count": 5,
      "outputs": [
        {
          "output_type": "execute_result",
          "data": {
            "text/plain": [
              "Loan_ID\n",
              "LP001002    1\n",
              "LP002328    1\n",
              "LP002305    1\n",
              "LP002308    1\n",
              "LP002314    1\n",
              "           ..\n",
              "LP001692    1\n",
              "LP001693    1\n",
              "LP001698    1\n",
              "LP001699    1\n",
              "LP002990    1\n",
              "Name: count, Length: 614, dtype: int64"
            ]
          },
          "metadata": {},
          "execution_count": 5
        }
      ]
    },
    {
      "cell_type": "markdown",
      "source": [
        "👉 It can be seen that there are 614 unique ID in the dataset."
      ],
      "metadata": {
        "id": "12npx9e_i7xB"
      }
    },
    {
      "cell_type": "markdown",
      "source": [
        "### 4.1.2 Gender"
      ],
      "metadata": {
        "id": "P0PIgD0sizNr"
      }
    },
    {
      "cell_type": "code",
      "source": [
        "df.Gender.value_counts(dropna=False)"
      ],
      "metadata": {
        "id": "-FCfZqBthMS9",
        "outputId": "c97a615f-0794-42a8-cfa2-b091cad38095",
        "execution": {
          "iopub.status.busy": "2022-03-08T02:28:37.032613Z",
          "iopub.execute_input": "2022-03-08T02:28:37.033234Z",
          "iopub.status.idle": "2022-03-08T02:28:37.041284Z",
          "shell.execute_reply.started": "2022-03-08T02:28:37.033199Z",
          "shell.execute_reply": "2022-03-08T02:28:37.040323Z"
        },
        "trusted": true,
        "colab": {
          "base_uri": "https://localhost:8080/"
        }
      },
      "execution_count": 6,
      "outputs": [
        {
          "output_type": "execute_result",
          "data": {
            "text/plain": [
              "Gender\n",
              "Male      489\n",
              "Female    112\n",
              "NaN        13\n",
              "Name: count, dtype: int64"
            ]
          },
          "metadata": {},
          "execution_count": 6
        }
      ]
    },
    {
      "cell_type": "code",
      "source": [
        "sns.countplot(x=\"Gender\", data=df, palette=\"hls\")\n",
        "plt.show()"
      ],
      "metadata": {
        "id": "J4m9mVNniwED",
        "outputId": "10c8a391-c457-4bc8-991a-dca249608704",
        "execution": {
          "iopub.status.busy": "2022-03-08T02:28:37.042563Z",
          "iopub.execute_input": "2022-03-08T02:28:37.043156Z",
          "iopub.status.idle": "2022-03-08T02:28:37.243272Z",
          "shell.execute_reply.started": "2022-03-08T02:28:37.043110Z",
          "shell.execute_reply": "2022-03-08T02:28:37.242328Z"
        },
        "trusted": true,
        "colab": {
          "base_uri": "https://localhost:8080/",
          "height": 556
        }
      },
      "execution_count": 7,
      "outputs": [
        {
          "output_type": "stream",
          "name": "stderr",
          "text": [
            "<ipython-input-7-4a1861040e11>:1: FutureWarning: \n",
            "\n",
            "Passing `palette` without assigning `hue` is deprecated and will be removed in v0.14.0. Assign the `x` variable to `hue` and set `legend=False` for the same effect.\n",
            "\n",
            "  sns.countplot(x=\"Gender\", data=df, palette=\"hls\")\n"
          ]
        },
        {
          "output_type": "display_data",
          "data": {
            "text/plain": [
              "<Figure size 640x480 with 1 Axes>"
            ],
            "image/png": "[encoded data removed]"
          },
          "metadata": {}
        }
      ]
    },
    {
      "cell_type": "code",
      "source": [
        "countMale = len(df[df.Gender == 'Male'])\n",
        "countFemale = len(df[df.Gender == 'Female'])\n",
        "countNull = len(df[df.Gender.isnull()])\n",
        "\n",
        "print(\"Percentage of Male applicant: {:.2f}%\".format((countMale / (len(df.Gender))*100)))\n",
        "print(\"Percentage of Female applicant: {:.2f}%\".format((countFemale / (len(df.Gender))*100)))\n",
        "print(\"Missing values percentage: {:.2f}%\".format((countNull / (len(df.Gender))*100)))"
      ],
      "metadata": {
        "id": "P7dngibeoNnH",
        "outputId": "24ba6bd8-4b8f-4c01-9c34-57b0bf643b4e",
        "execution": {
          "iopub.status.busy": "2022-03-08T02:28:37.244670Z",
          "iopub.execute_input": "2022-03-08T02:28:37.244982Z",
          "iopub.status.idle": "2022-03-08T02:28:37.259346Z",
          "shell.execute_reply.started": "2022-03-08T02:28:37.244923Z",
          "shell.execute_reply": "2022-03-08T02:28:37.258176Z"
        },
        "trusted": true,
        "colab": {
          "base_uri": "https://localhost:8080/"
        }
      },
      "execution_count": 8,
      "outputs": [
        {
          "output_type": "stream",
          "name": "stdout",
          "text": [
            "Percentage of Male applicant: 79.64%\n",
            "Percentage of Female applicant: 18.24%\n",
            "Missing values percentage: 2.12%\n"
          ]
        }
      ]
    },
    {
      "cell_type": "markdown",
      "source": [
        "👉 From the results above, the number of male applicants is higher compared to female applicants. It also can be seen there are missing values in this column."
      ],
      "metadata": {
        "id": "x-DNl5fMjDAu"
      }
    },
    {
      "cell_type": "markdown",
      "source": [
        "### 4.1.3 Married"
      ],
      "metadata": {
        "id": "b_Mkfxy6k2kS"
      }
    },
    {
      "cell_type": "code",
      "source": [
        "df.Married.value_counts(dropna=False)"
      ],
      "metadata": {
        "id": "GxBR8uJpk95l",
        "outputId": "77c7b202-a6cb-43ad-82b6-f8f977048528",
        "execution": {
          "iopub.status.busy": "2022-03-08T02:28:37.261207Z",
          "iopub.execute_input": "2022-03-08T02:28:37.261924Z",
          "iopub.status.idle": "2022-03-08T02:28:37.273082Z",
          "shell.execute_reply.started": "2022-03-08T02:28:37.261854Z",
          "shell.execute_reply": "2022-03-08T02:28:37.272383Z"
        },
        "trusted": true,
        "colab": {
          "base_uri": "https://localhost:8080/"
        }
      },
      "execution_count": 9,
      "outputs": [
        {
          "output_type": "execute_result",
          "data": {
            "text/plain": [
              "Married\n",
              "Yes    398\n",
              "No     213\n",
              "NaN      3\n",
              "Name: count, dtype: int64"
            ]
          },
          "metadata": {},
          "execution_count": 9
        }
      ]
    },
    {
      "cell_type": "code",
      "source": [
        "sns.countplot(x=\"Married\", data=df, palette=\"Paired\")\n",
        "plt.show()"
      ],
      "metadata": {
        "id": "7PSgGPJ-lNAI",
        "outputId": "e4c53cd0-a615-48ac-afc2-5cdbf89fc8f4",
        "execution": {
          "iopub.status.busy": "2022-03-08T02:28:37.274800Z",
          "iopub.execute_input": "2022-03-08T02:28:37.276197Z",
          "iopub.status.idle": "2022-03-08T02:28:37.446978Z",
          "shell.execute_reply.started": "2022-03-08T02:28:37.276120Z",
          "shell.execute_reply": "2022-03-08T02:28:37.446228Z"
        },
        "trusted": true,
        "colab": {
          "base_uri": "https://localhost:8080/",
          "height": 556
        }
      },
      "execution_count": 10,
      "outputs": [
        {
          "output_type": "stream",
          "name": "stderr",
          "text": [
            "<ipython-input-10-98d68ac191b2>:1: FutureWarning: \n",
            "\n",
            "Passing `palette` without assigning `hue` is deprecated and will be removed in v0.14.0. Assign the `x` variable to `hue` and set `legend=False` for the same effect.\n",
            "\n",
            "  sns.countplot(x=\"Married\", data=df, palette=\"Paired\")\n"
          ]
        },
        {
          "output_type": "display_data",
          "data": {
            "text/plain": [
              "<Figure size 640x480 with 1 Axes>"
            ],
            "image/png": "[encoded data removed]"
          },
          "metadata": {}
        }
      ]
    },
    {
      "cell_type": "markdown",
      "source": [
        "👉 The number of applicants that has been married is higher compared to applicants that hasn't married. It also can be seen there are small number of missing values in this column."
      ],
      "metadata": {
        "id": "103tu8DvlV0V"
      }
    },
    {
      "cell_type": "code",
      "source": [
        "countMarried = len(df[df.Married == 'Yes'])\n",
        "countNotMarried = len(df[df.Married == 'No'])\n",
        "countNull = len(df[df.Married.isnull()])\n",
        "\n",
        "print(\"Percentage of married: {:.2f}%\".format((countMarried / (len(df.Married))*100)))\n",
        "print(\"Percentage of Not married applicant: {:.2f}%\".format((countNotMarried / (len(df.Married))*100)))\n",
        "print(\"Missing values percentage: {:.2f}%\".format((countNull / (len(df.Married))*100)))"
      ],
      "metadata": {
        "id": "Iy-ECFncpHOg",
        "outputId": "88c9d243-7011-4b5c-f527-7e9e2f0a7a43",
        "execution": {
          "iopub.status.busy": "2022-03-08T02:28:37.448053Z",
          "iopub.execute_input": "2022-03-08T02:28:37.448618Z",
          "iopub.status.idle": "2022-03-08T02:28:37.457895Z",
          "shell.execute_reply.started": "2022-03-08T02:28:37.448584Z",
          "shell.execute_reply": "2022-03-08T02:28:37.457175Z"
        },
        "trusted": true,
        "colab": {
          "base_uri": "https://localhost:8080/"
        }
      },
      "execution_count": 11,
      "outputs": [
        {
          "output_type": "stream",
          "name": "stdout",
          "text": [
            "Percentage of married: 64.82%\n",
            "Percentage of Not married applicant: 34.69%\n",
            "Missing values percentage: 0.49%\n"
          ]
        }
      ]
    },
    {
      "cell_type": "markdown",
      "source": [
        "### 4.1.4 Education"
      ],
      "metadata": {
        "id": "Ytz_I82Vl3Wu"
      }
    },
    {
      "cell_type": "code",
      "source": [
        "df.Education.value_counts(dropna=False)"
      ],
      "metadata": {
        "id": "Qqa3XmC5l3Wv",
        "outputId": "3f1f2463-b5b3-4d2e-914f-6fcc920ded5c",
        "execution": {
          "iopub.status.busy": "2022-03-08T02:28:37.458987Z",
          "iopub.execute_input": "2022-03-08T02:28:37.460258Z",
          "iopub.status.idle": "2022-03-08T02:28:37.475857Z",
          "shell.execute_reply.started": "2022-03-08T02:28:37.460216Z",
          "shell.execute_reply": "2022-03-08T02:28:37.475184Z"
        },
        "trusted": true,
        "colab": {
          "base_uri": "https://localhost:8080/"
        }
      },
      "execution_count": 12,
      "outputs": [
        {
          "output_type": "execute_result",
          "data": {
            "text/plain": [
              "Education\n",
              "Graduate        480\n",
              "Not Graduate    134\n",
              "Name: count, dtype: int64"
            ]
          },
          "metadata": {},
          "execution_count": 12
        }
      ]
    },
    {
      "cell_type": "code",
      "source": [
        "sns.countplot(x=\"Education\", data=df, palette=\"rocket\")\n",
        "plt.show()"
      ],
      "metadata": {
        "id": "rOSIyek7l3Wv",
        "outputId": "40bceff5-809a-4929-f870-865696fb4a97",
        "execution": {
          "iopub.status.busy": "2022-03-08T02:28:37.477178Z",
          "iopub.execute_input": "2022-03-08T02:28:37.478210Z",
          "iopub.status.idle": "2022-03-08T02:28:37.643701Z",
          "shell.execute_reply.started": "2022-03-08T02:28:37.478156Z",
          "shell.execute_reply": "2022-03-08T02:28:37.642794Z"
        },
        "trusted": true,
        "colab": {
          "base_uri": "https://localhost:8080/",
          "height": 559
        }
      },
      "execution_count": 13,
      "outputs": [
        {
          "output_type": "stream",
          "name": "stderr",
          "text": [
            "<ipython-input-13-8e9ea3c8e87a>:1: FutureWarning: \n",
            "\n",
            "Passing `palette` without assigning `hue` is deprecated and will be removed in v0.14.0. Assign the `x` variable to `hue` and set `legend=False` for the same effect.\n",
            "\n",
            "  sns.countplot(x=\"Education\", data=df, palette=\"rocket\")\n"
          ]
        },
        {
          "output_type": "display_data",
          "data": {
            "text/plain": [
              "<Figure size 640x480 with 1 Axes>"
            ],
            "image/png": "[encoded data removed]"
          },
          "metadata": {}
        }
      ]
    },
    {
      "cell_type": "code",
      "source": [
        "countGraduate = len(df[df.Education == 'Graduate'])\n",
        "countNotGraduate = len(df[df.Education == 'Not Graduate'])\n",
        "countNull = len(df[df.Education.isnull()])\n",
        "\n",
        "print(\"Percentage of graduate applicant: {:.2f}%\".format((countGraduate / (len(df.Education))*100)))\n",
        "print(\"Percentage of Not graduate applicant: {:.2f}%\".format((countNotGraduate / (len(df.Education))*100)))\n",
        "print(\"Missing values percentage: {:.2f}%\".format((countNull / (len(df.Education))*100)))"
      ],
      "metadata": {
        "id": "KswArAwgphLx",
        "outputId": "3cecce17-4a34-4b07-9c7c-2fd15fe84b5a",
        "execution": {
          "iopub.status.busy": "2022-03-08T02:28:37.646233Z",
          "iopub.execute_input": "2022-03-08T02:28:37.646741Z",
          "iopub.status.idle": "2022-03-08T02:28:37.659860Z",
          "shell.execute_reply.started": "2022-03-08T02:28:37.646693Z",
          "shell.execute_reply": "2022-03-08T02:28:37.658931Z"
        },
        "trusted": true,
        "colab": {
          "base_uri": "https://localhost:8080/"
        }
      },
      "execution_count": 14,
      "outputs": [
        {
          "output_type": "stream",
          "name": "stdout",
          "text": [
            "Percentage of graduate applicant: 78.18%\n",
            "Percentage of Not graduate applicant: 21.82%\n",
            "Missing values percentage: 0.00%\n"
          ]
        }
      ]
    },
    {
      "cell_type": "markdown",
      "source": [
        "👉 The number of applicants that has been graduated is higher compared to applicants that hasn't graduated."
      ],
      "metadata": {
        "id": "wa2PIxQ_l3Ww"
      }
    },
    {
      "cell_type": "markdown",
      "source": [
        "### 4.1.5 Self Employed"
      ],
      "metadata": {
        "id": "35SS19AbmYMQ"
      }
    },
    {
      "cell_type": "code",
      "source": [
        "df.Self_Employed.value_counts(dropna=False)"
      ],
      "metadata": {
        "id": "_SkU0fcVmYMY",
        "outputId": "decd4941-eecc-4572-e2f0-f3837931d8f7",
        "execution": {
          "iopub.status.busy": "2022-03-08T02:28:37.663498Z",
          "iopub.execute_input": "2022-03-08T02:28:37.663898Z",
          "iopub.status.idle": "2022-03-08T02:28:37.675867Z",
          "shell.execute_reply.started": "2022-03-08T02:28:37.663859Z",
          "shell.execute_reply": "2022-03-08T02:28:37.674931Z"
        },
        "trusted": true,
        "colab": {
          "base_uri": "https://localhost:8080/"
        }
      },
      "execution_count": 15,
      "outputs": [
        {
          "output_type": "execute_result",
          "data": {
            "text/plain": [
              "Self_Employed\n",
              "No     500\n",
              "Yes     82\n",
              "NaN     32\n",
              "Name: count, dtype: int64"
            ]
          },
          "metadata": {},
          "execution_count": 15
        }
      ]
    },
    {
      "cell_type": "code",
      "source": [
        "sns.countplot(x=\"Self_Employed\", data=df, palette=\"crest\")\n",
        "plt.show()"
      ],
      "metadata": {
        "id": "BMr-wTlFmYMZ",
        "outputId": "67451fd2-5daf-4743-a06d-86584109da8e",
        "execution": {
          "iopub.status.busy": "2022-03-08T02:28:37.677014Z",
          "iopub.execute_input": "2022-03-08T02:28:37.677245Z",
          "iopub.status.idle": "2022-03-08T02:28:37.792117Z",
          "shell.execute_reply.started": "2022-03-08T02:28:37.677219Z",
          "shell.execute_reply": "2022-03-08T02:28:37.791100Z"
        },
        "trusted": true,
        "colab": {
          "base_uri": "https://localhost:8080/",
          "height": 557
        }
      },
      "execution_count": 16,
      "outputs": [
        {
          "output_type": "stream",
          "name": "stderr",
          "text": [
            "<ipython-input-16-283837bf1c2e>:1: FutureWarning: \n",
            "\n",
            "Passing `palette` without assigning `hue` is deprecated and will be removed in v0.14.0. Assign the `x` variable to `hue` and set `legend=False` for the same effect.\n",
            "\n",
            "  sns.countplot(x=\"Self_Employed\", data=df, palette=\"crest\")\n"
          ]
        },
        {
          "output_type": "display_data",
          "data": {
            "text/plain": [
              "<Figure size 640x480 with 1 Axes>"
            ],
            "image/png": "[encoded data removed]"
          },
          "metadata": {}
        }
      ]
    },
    {
      "cell_type": "code",
      "source": [
        "countNo = len(df[df.Self_Employed == 'No'])\n",
        "countYes = len(df[df.Self_Employed == 'Yes'])\n",
        "countNull = len(df[df.Self_Employed.isnull()])\n",
        "\n",
        "print(\"Percentage of Not self employed: {:.2f}%\".format((countNo / (len(df.Self_Employed))*100)))\n",
        "print(\"Percentage of self employed: {:.2f}%\".format((countYes / (len(df.Self_Employed))*100)))\n",
        "print(\"Missing values percentage: {:.2f}%\".format((countNull / (len(df.Self_Employed))*100)))"
      ],
      "metadata": {
        "id": "EaJS6E0Xp1AT",
        "outputId": "1f79b2d2-7c99-41fe-87a9-313f0bc28bf4",
        "execution": {
          "iopub.status.busy": "2022-03-08T02:28:37.794114Z",
          "iopub.execute_input": "2022-03-08T02:28:37.794739Z",
          "iopub.status.idle": "2022-03-08T02:28:37.810051Z",
          "shell.execute_reply.started": "2022-03-08T02:28:37.794683Z",
          "shell.execute_reply": "2022-03-08T02:28:37.808801Z"
        },
        "trusted": true,
        "colab": {
          "base_uri": "https://localhost:8080/"
        }
      },
      "execution_count": 17,
      "outputs": [
        {
          "output_type": "stream",
          "name": "stdout",
          "text": [
            "Percentage of Not self employed: 81.43%\n",
            "Percentage of self employed: 13.36%\n",
            "Missing values percentage: 5.21%\n"
          ]
        }
      ]
    },
    {
      "cell_type": "markdown",
      "source": [
        "👉 The number of applicants that are not self employed is higher compared to applicants that are self employed. It also can be seen, there are missing values in this column."
      ],
      "metadata": {
        "id": "riciPtC9mYMZ"
      }
    },
    {
      "cell_type": "markdown",
      "source": [
        "### 4.1.6 Credit History"
      ],
      "metadata": {
        "id": "sn4zWF8-njF5"
      }
    },
    {
      "cell_type": "code",
      "source": [
        "df.Credit_History.value_counts(dropna=False)"
      ],
      "metadata": {
        "id": "KtdDjo95njGA",
        "outputId": "0dc3dfb3-934c-48b7-dc7e-96165e45a54f",
        "execution": {
          "iopub.status.busy": "2022-03-08T02:28:37.812424Z",
          "iopub.execute_input": "2022-03-08T02:28:37.813008Z",
          "iopub.status.idle": "2022-03-08T02:28:37.827535Z",
          "shell.execute_reply.started": "2022-03-08T02:28:37.812958Z",
          "shell.execute_reply": "2022-03-08T02:28:37.826151Z"
        },
        "trusted": true,
        "colab": {
          "base_uri": "https://localhost:8080/"
        }
      },
      "execution_count": 18,
      "outputs": [
        {
          "output_type": "execute_result",
          "data": {
            "text/plain": [
              "Credit_History\n",
              "1.0    475\n",
              "0.0     89\n",
              "NaN     50\n",
              "Name: count, dtype: int64"
            ]
          },
          "metadata": {},
          "execution_count": 18
        }
      ]
    },
    {
      "cell_type": "code",
      "source": [
        "sns.countplot(x=\"Credit_History\", data=df, palette=\"viridis\")\n",
        "plt.show()"
      ],
      "metadata": {
        "id": "VmNGGD6onjGB",
        "outputId": "7a17cf02-d6ca-400f-a054-55adab5d2c76",
        "execution": {
          "iopub.status.busy": "2022-03-08T02:28:37.830257Z",
          "iopub.execute_input": "2022-03-08T02:28:37.831054Z",
          "iopub.status.idle": "2022-03-08T02:28:37.988441Z",
          "shell.execute_reply.started": "2022-03-08T02:28:37.830988Z",
          "shell.execute_reply": "2022-03-08T02:28:37.987767Z"
        },
        "trusted": true,
        "colab": {
          "base_uri": "https://localhost:8080/",
          "height": 557
        }
      },
      "execution_count": 19,
      "outputs": [
        {
          "output_type": "stream",
          "name": "stderr",
          "text": [
            "<ipython-input-19-b2abd7acd8ee>:1: FutureWarning: \n",
            "\n",
            "Passing `palette` without assigning `hue` is deprecated and will be removed in v0.14.0. Assign the `x` variable to `hue` and set `legend=False` for the same effect.\n",
            "\n",
            "  sns.countplot(x=\"Credit_History\", data=df, palette=\"viridis\")\n"
          ]
        },
        {
          "output_type": "display_data",
          "data": {
            "text/plain": [
              "<Figure size 640x480 with 1 Axes>"
            ],
            "image/png": "[encoded data removed]"
          },
          "metadata": {}
        }
      ]
    },
    {
      "cell_type": "code",
      "source": [
        "count1 = len(df[df.Credit_History == 1])\n",
        "count0 = len(df[df.Credit_History == 0])\n",
        "countNull = len(df[df.Credit_History.isnull()])\n",
        "\n",
        "print(\"Percentage of Good credit history: {:.2f}%\".format((count1 / (len(df.Credit_History))*100)))\n",
        "print(\"Percentage of Bad credit history: {:.2f}%\".format((count0 / (len(df.Credit_History))*100)))\n",
        "print(\"Missing values percentage: {:.2f}%\".format((countNull / (len(df.Credit_History))*100)))"
      ],
      "metadata": {
        "id": "WdkcsU8vqK8Y",
        "outputId": "8c4e77fa-85d2-4bbc-da2f-9eb6ef662b20",
        "execution": {
          "iopub.status.busy": "2022-03-08T02:28:37.989844Z",
          "iopub.execute_input": "2022-03-08T02:28:37.990354Z",
          "iopub.status.idle": "2022-03-08T02:28:38.001778Z",
          "shell.execute_reply.started": "2022-03-08T02:28:37.990308Z",
          "shell.execute_reply": "2022-03-08T02:28:38.000577Z"
        },
        "trusted": true,
        "colab": {
          "base_uri": "https://localhost:8080/"
        }
      },
      "execution_count": 20,
      "outputs": [
        {
          "output_type": "stream",
          "name": "stdout",
          "text": [
            "Percentage of Good credit history: 77.36%\n",
            "Percentage of Bad credit history: 14.50%\n",
            "Missing values percentage: 8.14%\n"
          ]
        }
      ]
    },
    {
      "cell_type": "markdown",
      "source": [
        "👉 The number of applicants that have good credit history is higher compared to applicants that have bad credit history. It also can be seen, there are missing values in this column."
      ],
      "metadata": {
        "id": "SqS_n8I7njGB"
      }
    },
    {
      "cell_type": "markdown",
      "source": [
        "### 4.1.7 Property Area"
      ],
      "metadata": {
        "id": "vITK924Anjnn"
      }
    },
    {
      "cell_type": "code",
      "source": [
        "df.Property_Area.value_counts(dropna=False)"
      ],
      "metadata": {
        "id": "i4o2LfJ2njnn",
        "outputId": "86360464-a1b6-4900-c989-05e9565042a5",
        "execution": {
          "iopub.status.busy": "2022-03-08T02:28:38.003291Z",
          "iopub.execute_input": "2022-03-08T02:28:38.003745Z",
          "iopub.status.idle": "2022-03-08T02:28:38.023708Z",
          "shell.execute_reply.started": "2022-03-08T02:28:38.003708Z",
          "shell.execute_reply": "2022-03-08T02:28:38.022809Z"
        },
        "trusted": true,
        "colab": {
          "base_uri": "https://localhost:8080/"
        }
      },
      "execution_count": 21,
      "outputs": [
        {
          "output_type": "execute_result",
          "data": {
            "text/plain": [
              "Property_Area\n",
              "Semiurban    233\n",
              "Urban        202\n",
              "Rural        179\n",
              "Name: count, dtype: int64"
            ]
          },
          "metadata": {},
          "execution_count": 21
        }
      ]
    },
    {
      "cell_type": "code",
      "source": [
        "sns.countplot(x=\"Property_Area\", data=df, palette=\"cubehelix\")\n",
        "plt.show()"
      ],
      "metadata": {
        "id": "29S5dnm6njnn",
        "outputId": "b0d84dc5-f711-4d90-84af-02f9317720d6",
        "execution": {
          "iopub.status.busy": "2022-03-08T02:28:38.025000Z",
          "iopub.execute_input": "2022-03-08T02:28:38.025747Z",
          "iopub.status.idle": "2022-03-08T02:28:38.195693Z",
          "shell.execute_reply.started": "2022-03-08T02:28:38.025711Z",
          "shell.execute_reply": "2022-03-08T02:28:38.194766Z"
        },
        "trusted": true,
        "colab": {
          "base_uri": "https://localhost:8080/",
          "height": 556
        }
      },
      "execution_count": 22,
      "outputs": [
        {
          "output_type": "stream",
          "name": "stderr",
          "text": [
            "<ipython-input-22-3f0e29f42635>:1: FutureWarning: \n",
            "\n",
            "Passing `palette` without assigning `hue` is deprecated and will be removed in v0.14.0. Assign the `x` variable to `hue` and set `legend=False` for the same effect.\n",
            "\n",
            "  sns.countplot(x=\"Property_Area\", data=df, palette=\"cubehelix\")\n"
          ]
        },
        {
          "output_type": "display_data",
          "data": {
            "text/plain": [
              "<Figure size 640x480 with 1 Axes>"
            ],
            "image/png": "[encoded data removed]"
          },
          "metadata": {}
        }
      ]
    },
    {
      "cell_type": "code",
      "source": [
        "countUrban = len(df[df.Property_Area == 'Urban'])\n",
        "countRural = len(df[df.Property_Area == 'Rural'])\n",
        "countSemiurban = len(df[df.Property_Area == 'Semiurban'])\n",
        "countNull = len(df[df.Property_Area.isnull()])\n",
        "\n",
        "print(\"Percentage of Urban: {:.2f}%\".format((countUrban / (len(df.Property_Area))*100)))\n",
        "print(\"Percentage of Rural: {:.2f}%\".format((countRural / (len(df.Property_Area))*100)))\n",
        "print(\"Percentage of Semiurban: {:.2f}%\".format((countSemiurban / (len(df.Property_Area))*100)))\n",
        "print(\"Missing values percentage: {:.2f}%\".format((countNull / (len(df.Property_Area))*100)))"
      ],
      "metadata": {
        "id": "XoksMSh9raU_",
        "outputId": "7bc1cf72-f972-4bdc-b945-f62e32d8e54b",
        "execution": {
          "iopub.status.busy": "2022-03-08T02:28:38.196939Z",
          "iopub.execute_input": "2022-03-08T02:28:38.197630Z",
          "iopub.status.idle": "2022-03-08T02:28:38.208489Z",
          "shell.execute_reply.started": "2022-03-08T02:28:38.197593Z",
          "shell.execute_reply": "2022-03-08T02:28:38.207717Z"
        },
        "trusted": true,
        "colab": {
          "base_uri": "https://localhost:8080/"
        }
      },
      "execution_count": 23,
      "outputs": [
        {
          "output_type": "stream",
          "name": "stdout",
          "text": [
            "Percentage of Urban: 32.90%\n",
            "Percentage of Rural: 29.15%\n",
            "Percentage of Semiurban: 37.95%\n",
            "Missing values percentage: 0.00%\n"
          ]
        }
      ]
    },
    {
      "cell_type": "markdown",
      "source": [
        "👉 This column has a balanced distribution between Urban, Rural, and Semiurban property area. It also can be seen there is no missing value."
      ],
      "metadata": {
        "id": "Uh6r7sCbnjnn"
      }
    },
    {
      "cell_type": "markdown",
      "source": [
        "### 4.1.8 Loan Status"
      ],
      "metadata": {
        "id": "sq3-SZScnkCQ"
      }
    },
    {
      "cell_type": "code",
      "source": [
        "df.Loan_Status.value_counts(dropna=False)"
      ],
      "metadata": {
        "id": "wiumstnCnkCQ",
        "outputId": "f091643c-d7b9-4d48-f8dd-5a0327b7a990",
        "execution": {
          "iopub.status.busy": "2022-03-08T02:28:38.209709Z",
          "iopub.execute_input": "2022-03-08T02:28:38.210271Z",
          "iopub.status.idle": "2022-03-08T02:28:38.223124Z",
          "shell.execute_reply.started": "2022-03-08T02:28:38.210225Z",
          "shell.execute_reply": "2022-03-08T02:28:38.222216Z"
        },
        "trusted": true,
        "colab": {
          "base_uri": "https://localhost:8080/"
        }
      },
      "execution_count": 24,
      "outputs": [
        {
          "output_type": "execute_result",
          "data": {
            "text/plain": [
              "Loan_Status\n",
              "Y    422\n",
              "N    192\n",
              "Name: count, dtype: int64"
            ]
          },
          "metadata": {},
          "execution_count": 24
        }
      ]
    },
    {
      "cell_type": "code",
      "source": [
        "sns.countplot(x=\"Loan_Status\", data=df, palette=\"YlOrBr\")\n",
        "plt.show()"
      ],
      "metadata": {
        "id": "uu0vT0SvnkCR",
        "outputId": "a1fded24-ede9-4843-fd56-00a97f8a4696",
        "execution": {
          "iopub.status.busy": "2022-03-08T02:28:38.226475Z",
          "iopub.execute_input": "2022-03-08T02:28:38.226848Z",
          "iopub.status.idle": "2022-03-08T02:28:38.398985Z",
          "shell.execute_reply.started": "2022-03-08T02:28:38.226800Z",
          "shell.execute_reply": "2022-03-08T02:28:38.398197Z"
        },
        "trusted": true,
        "colab": {
          "base_uri": "https://localhost:8080/",
          "height": 556
        }
      },
      "execution_count": 25,
      "outputs": [
        {
          "output_type": "stream",
          "name": "stderr",
          "text": [
            "<ipython-input-25-06b98ed0a451>:1: FutureWarning: \n",
            "\n",
            "Passing `palette` without assigning `hue` is deprecated and will be removed in v0.14.0. Assign the `x` variable to `hue` and set `legend=False` for the same effect.\n",
            "\n",
            "  sns.countplot(x=\"Loan_Status\", data=df, palette=\"YlOrBr\")\n"
          ]
        },
        {
          "output_type": "display_data",
          "data": {
            "text/plain": [
              "<Figure size 640x480 with 1 Axes>"
            ],
            "image/png": "[encoded data removed]"
          },
          "metadata": {}
        }
      ]
    },
    {
      "cell_type": "code",
      "source": [
        "countY = len(df[df.Loan_Status == 'Y'])\n",
        "countN = len(df[df.Loan_Status == 'N'])\n",
        "countNull = len(df[df.Loan_Status.isnull()])\n",
        "\n",
        "print(\"Percentage of Approved: {:.2f}%\".format((countY / (len(df.Loan_Status))*100)))\n",
        "print(\"Percentage of Rejected: {:.2f}%\".format((countN / (len(df.Loan_Status))*100)))\n",
        "print(\"Missing values percentage: {:.2f}%\".format((countNull / (len(df.Loan_Status))*100)))"
      ],
      "metadata": {
        "id": "nicivzzRsqZe",
        "outputId": "8ca9c1e8-71a2-4938-be25-a91fcaa49c52",
        "execution": {
          "iopub.status.busy": "2022-03-08T02:28:38.400459Z",
          "iopub.execute_input": "2022-03-08T02:28:38.400737Z",
          "iopub.status.idle": "2022-03-08T02:28:38.413001Z",
          "shell.execute_reply.started": "2022-03-08T02:28:38.400699Z",
          "shell.execute_reply": "2022-03-08T02:28:38.412160Z"
        },
        "trusted": true,
        "colab": {
          "base_uri": "https://localhost:8080/"
        }
      },
      "execution_count": 26,
      "outputs": [
        {
          "output_type": "stream",
          "name": "stdout",
          "text": [
            "Percentage of Approved: 68.73%\n",
            "Percentage of Rejected: 31.27%\n",
            "Missing values percentage: 0.00%\n"
          ]
        }
      ]
    },
    {
      "cell_type": "markdown",
      "source": [
        "👉 The number of approved loans is higher compared to rejected loans . It also can be seen, there is no missing values in this column."
      ],
      "metadata": {
        "id": "Nj8btIZpnkCR"
      }
    },
    {
      "cell_type": "markdown",
      "source": [
        "### 4.1.9 Loan Amount Term"
      ],
      "metadata": {
        "id": "uOKvRa2gO_j9"
      }
    },
    {
      "cell_type": "code",
      "source": [
        "df.Loan_Amount_Term.value_counts(dropna=False)"
      ],
      "metadata": {
        "id": "suUA8cOXO_kB",
        "outputId": "cb16b86a-e756-4bae-ba31-b5600f93a56d",
        "execution": {
          "iopub.status.busy": "2022-03-08T02:28:38.414623Z",
          "iopub.execute_input": "2022-03-08T02:28:38.415535Z",
          "iopub.status.idle": "2022-03-08T02:28:38.423765Z",
          "shell.execute_reply.started": "2022-03-08T02:28:38.415492Z",
          "shell.execute_reply": "2022-03-08T02:28:38.423033Z"
        },
        "trusted": true,
        "colab": {
          "base_uri": "https://localhost:8080/"
        }
      },
      "execution_count": 27,
      "outputs": [
        {
          "output_type": "execute_result",
          "data": {
            "text/plain": [
              "Loan_Amount_Term\n",
              "360.0    512\n",
              "180.0     44\n",
              "480.0     15\n",
              "NaN       14\n",
              "300.0     13\n",
              "240.0      4\n",
              "84.0       4\n",
              "120.0      3\n",
              "60.0       2\n",
              "36.0       2\n",
              "12.0       1\n",
              "Name: count, dtype: int64"
            ]
          },
          "metadata": {},
          "execution_count": 27
        }
      ]
    },
    {
      "cell_type": "code",
      "source": [
        "sns.countplot(x=\"Loan_Amount_Term\", data=df, palette=\"rocket\")\n",
        "plt.show()"
      ],
      "metadata": {
        "id": "19IBVpnZO_kC",
        "outputId": "e699c10c-7808-4f3b-efa0-d2add29ac136",
        "execution": {
          "iopub.status.busy": "2022-03-08T02:28:38.425680Z",
          "iopub.execute_input": "2022-03-08T02:28:38.425945Z",
          "iopub.status.idle": "2022-03-08T02:28:38.638040Z",
          "shell.execute_reply.started": "2022-03-08T02:28:38.425914Z",
          "shell.execute_reply": "2022-03-08T02:28:38.637119Z"
        },
        "trusted": true,
        "colab": {
          "base_uri": "https://localhost:8080/",
          "height": 556
        }
      },
      "execution_count": 28,
      "outputs": [
        {
          "output_type": "stream",
          "name": "stderr",
          "text": [
            "<ipython-input-28-88751c2297d5>:1: FutureWarning: \n",
            "\n",
            "Passing `palette` without assigning `hue` is deprecated and will be removed in v0.14.0. Assign the `x` variable to `hue` and set `legend=False` for the same effect.\n",
            "\n",
            "  sns.countplot(x=\"Loan_Amount_Term\", data=df, palette=\"rocket\")\n"
          ]
        },
        {
          "output_type": "display_data",
          "data": {
            "text/plain": [
              "<Figure size 640x480 with 1 Axes>"
            ],
            "image/png": "[encoded data removed]"
          },
          "metadata": {}
        }
      ]
    },
    {
      "cell_type": "code",
      "source": [
        "count12 = len(df[df.Loan_Amount_Term == 12.0])\n",
        "count36 = len(df[df.Loan_Amount_Term == 36.0])\n",
        "count60 = len(df[df.Loan_Amount_Term == 60.0])\n",
        "count84 = len(df[df.Loan_Amount_Term == 84.0])\n",
        "count120 = len(df[df.Loan_Amount_Term == 120.0])\n",
        "count180 = len(df[df.Loan_Amount_Term == 180.0])\n",
        "count240 = len(df[df.Loan_Amount_Term == 240.0])\n",
        "count300 = len(df[df.Loan_Amount_Term == 300.0])\n",
        "count360 = len(df[df.Loan_Amount_Term == 360.0])\n",
        "count480 = len(df[df.Loan_Amount_Term == 480.0])\n",
        "countNull = len(df[df.Loan_Amount_Term.isnull()])\n",
        "\n",
        "print(\"Percentage of 12: {:.2f}%\".format((count12 / (len(df.Loan_Amount_Term))*100)))\n",
        "print(\"Percentage of 36: {:.2f}%\".format((count36 / (len(df.Loan_Amount_Term))*100)))\n",
        "print(\"Percentage of 60: {:.2f}%\".format((count60 / (len(df.Loan_Amount_Term))*100)))\n",
        "print(\"Percentage of 84: {:.2f}%\".format((count84 / (len(df.Loan_Amount_Term))*100)))\n",
        "print(\"Percentage of 120: {:.2f}%\".format((count120 / (len(df.Loan_Amount_Term))*100)))\n",
        "print(\"Percentage of 180: {:.2f}%\".format((count180 / (len(df.Loan_Amount_Term))*100)))\n",
        "print(\"Percentage of 240: {:.2f}%\".format((count240 / (len(df.Loan_Amount_Term))*100)))\n",
        "print(\"Percentage of 300: {:.2f}%\".format((count300 / (len(df.Loan_Amount_Term))*100)))\n",
        "print(\"Percentage of 360: {:.2f}%\".format((count360 / (len(df.Loan_Amount_Term))*100)))\n",
        "print(\"Percentage of 480: {:.2f}%\".format((count480 / (len(df.Loan_Amount_Term))*100)))\n",
        "print(\"Missing values percentage: {:.2f}%\".format((countNull / (len(df.Loan_Amount_Term))*100)))"
      ],
      "metadata": {
        "id": "4I7KGiUiO_kC",
        "outputId": "3ac1b372-b33c-4a37-8be7-5df3da5ab10c",
        "execution": {
          "iopub.status.busy": "2022-03-08T02:28:38.639601Z",
          "iopub.execute_input": "2022-03-08T02:28:38.639860Z",
          "iopub.status.idle": "2022-03-08T02:28:38.661394Z",
          "shell.execute_reply.started": "2022-03-08T02:28:38.639828Z",
          "shell.execute_reply": "2022-03-08T02:28:38.660356Z"
        },
        "trusted": true,
        "colab": {
          "base_uri": "https://localhost:8080/"
        }
      },
      "execution_count": 29,
      "outputs": [
        {
          "output_type": "stream",
          "name": "stdout",
          "text": [
            "Percentage of 12: 0.16%\n",
            "Percentage of 36: 0.33%\n",
            "Percentage of 60: 0.33%\n",
            "Percentage of 84: 0.65%\n",
            "Percentage of 120: 0.49%\n",
            "Percentage of 180: 7.17%\n",
            "Percentage of 240: 0.65%\n",
            "Percentage of 300: 2.12%\n",
            "Percentage of 360: 83.39%\n",
            "Percentage of 480: 2.44%\n",
            "Missing values percentage: 2.28%\n"
          ]
        }
      ]
    },
    {
      "cell_type": "markdown",
      "source": [
        "👉 As can be seen from the results, **the 360 days loan duration is the most popular** compared to others."
      ],
      "metadata": {
        "id": "SrCT3UlKO_kC"
      }
    },
    {
      "cell_type": "markdown",
      "source": [
        "## 4.2 Numerical Variable 🔢\n",
        "👉 The second variable that I will explore is categorical variable."
      ],
      "metadata": {
        "id": "uE8t92lRtCXr"
      }
    },
    {
      "cell_type": "markdown",
      "source": [
        "### 4.2.1 Describe Numerical Variable 🔎\n",
        "👉 This section will show mean, count, std, min, max and others using describe function.\n"
      ],
      "metadata": {
        "id": "OilcVn02ZLGC"
      }
    },
    {
      "cell_type": "code",
      "source": [
        "df[['ApplicantIncome','CoapplicantIncome','LoanAmount']].describe()"
      ],
      "metadata": {
        "id": "JYmOMnqitb6s",
        "outputId": "31014146-fdad-4875-b609-45ebf5d0e99e",
        "execution": {
          "iopub.status.busy": "2022-03-08T02:28:38.662874Z",
          "iopub.execute_input": "2022-03-08T02:28:38.663260Z",
          "iopub.status.idle": "2022-03-08T02:28:38.688764Z",
          "shell.execute_reply.started": "2022-03-08T02:28:38.663205Z",
          "shell.execute_reply": "2022-03-08T02:28:38.688190Z"
        },
        "trusted": true,
        "colab": {
          "base_uri": "https://localhost:8080/",
          "height": 300
        }
      },
      "execution_count": 30,
      "outputs": [
        {
          "output_type": "execute_result",
          "data": {
            "text/plain": [
              "       ApplicantIncome  CoapplicantIncome  LoanAmount\n",
              "count       614.000000         614.000000  592.000000\n",
              "mean       5403.459283        1621.245798  146.412162\n",
              "std        6109.041673        2926.248369   85.587325\n",
              "min         150.000000           0.000000    9.000000\n",
              "25%        2877.500000           0.000000  100.000000\n",
              "50%        3812.500000        1188.500000  128.000000\n",
              "75%        5795.000000        2297.250000  168.000000\n",
              "max       81000.000000       41667.000000  700.000000"
            ],
            "text/html": [
              "\n",
              "  <div id=\"df-3093a0f9-f2c6-4544-8a9b-a8f8439481d1\" class=\"colab-df-container\">\n",
              "    <div>\n",
              "<style scoped>\n",
              "    .dataframe tbody tr th:only-of-type {\n",
              "        vertical-align: middle;\n",
              "    }\n",
              "\n",
              "    .dataframe tbody tr th {\n",
              "        vertical-align: top;\n",
              "    }\n",
              "\n",
              "    .dataframe thead th {\n",
              "        text-align: right;\n",
              "    }\n",
              "</style>\n",
              "<table border=\"1\" class=\"dataframe\">\n",
              "  <thead>\n",
              "    <tr style=\"text-align: right;\">\n",
              "      <th></th>\n",
              "      <th>ApplicantIncome</th>\n",
              "      <th>CoapplicantIncome</th>\n",
              "      <th>LoanAmount</th>\n",
              "    </tr>\n",
              "  </thead>\n",
              "  <tbody>\n",
              "    <tr>\n",
              "      <th>count</th>\n",
              "      <td>614.000000</td>\n",
              "      <td>614.000000</td>\n",
              "      <td>592.000000</td>\n",
              "    </tr>\n",
              "    <tr>\n",
              "      <th>mean</th>\n",
              "      <td>5403.459283</td>\n",
              "      <td>1621.245798</td>\n",
              "      <td>146.412162</td>\n",
              "    </tr>\n",
              "    <tr>\n",
              "      <th>std</th>\n",
              "      <td>6109.041673</td>\n",
              "      <td>2926.248369</td>\n",
              "      <td>85.587325</td>\n",
              "    </tr>\n",
              "    <tr>\n",
              "      <th>min</th>\n",
              "      <td>150.000000</td>\n",
              "      <td>0.000000</td>\n",
              "      <td>9.000000</td>\n",
              "    </tr>\n",
              "    <tr>\n",
              "      <th>25%</th>\n",
              "      <td>2877.500000</td>\n",
              "      <td>0.000000</td>\n",
              "      <td>100.000000</td>\n",
              "    </tr>\n",
              "    <tr>\n",
              "      <th>50%</th>\n",
              "      <td>3812.500000</td>\n",
              "      <td>1188.500000</td>\n",
              "      <td>128.000000</td>\n",
              "    </tr>\n",
              "    <tr>\n",
              "      <th>75%</th>\n",
              "      <td>5795.000000</td>\n",
              "      <td>2297.250000</td>\n",
              "      <td>168.000000</td>\n",
              "    </tr>\n",
              "    <tr>\n",
              "      <th>max</th>\n",
              "      <td>81000.000000</td>\n",
              "      <td>41667.000000</td>\n",
              "      <td>700.000000</td>\n",
              "    </tr>\n",
              "  </tbody>\n",
              "</table>\n",
              "</div>\n",
              "    <div class=\"colab-df-buttons\">\n",
              "\n",
              "  <div class=\"colab-df-container\">\n",
              "    <button class=\"colab-df-convert\" onclick=\"convertToInteractive('df-3093a0f9-f2c6-4544-8a9b-a8f8439481d1')\"\n",
              "            title=\"Convert this dataframe to an interactive table.\"\n",
              "            style=\"display:none;\">\n",
              "\n",
              "  <svg xmlns=\"http://www.w3.org/2000/svg\" height=\"24px\" viewBox=\"0 -960 960 960\">\n",
              "    <path d=\"M120-120v-720h720v720H120Zm60-500h600v-160H180v160Zm220 220h160v-160H400v160Zm0 220h160v-160H400v160ZM180-400h160v-160H180v160Zm440 0h160v-160H620v160ZM180-180h160v-160H180v160Zm440 0h160v-160H620v160Z\"/>\n",
              "  </svg>\n",
              "    </button>\n",
              "\n",
              "  <style>\n",
              "    .colab-df-container {\n",
              "      display:flex;\n",
              "      gap: 12px;\n",
              "    }\n",
              "\n",
              "    .colab-df-convert {\n",
              "      background-color: #E8F0FE;\n",
              "      border: none;\n",
              "      border-radius: 50%;\n",
              "      cursor: pointer;\n",
              "      display: none;\n",
              "      fill: #1967D2;\n",
              "      height: 32px;\n",
              "      padding: 0 0 0 0;\n",
              "      width: 32px;\n",
              "    }\n",
              "\n",
              "    .colab-df-convert:hover {\n",
              "      background-color: #E2EBFA;\n",
              "      box-shadow: 0px 1px 2px rgba(60, 64, 67, 0.3), 0px 1px 3px 1px rgba(60, 64, 67, 0.15);\n",
              "      fill: #174EA6;\n",
              "    }\n",
              "\n",
              "    .colab-df-buttons div {\n",
              "      margin-bottom: 4px;\n",
              "    }\n",
              "\n",
              "    [theme=dark] .colab-df-convert {\n",
              "      background-color: #3B4455;\n",
              "      fill: #D2E3FC;\n",
              "    }\n",
              "\n",
              "    [theme=dark] .colab-df-convert:hover {\n",
              "      background-color: #434B5C;\n",
              "      box-shadow: 0px 1px 3px 1px rgba(0, 0, 0, 0.15);\n",
              "      filter: drop-shadow(0px 1px 2px rgba(0, 0, 0, 0.3));\n",
              "      fill: #FFFFFF;\n",
              "    }\n",
              "  </style>\n",
              "\n",
              "    <script>\n",
              "      const buttonEl =\n",
              "        document.querySelector('#df-3093a0f9-f2c6-4544-8a9b-a8f8439481d1 button.colab-df-convert');\n",
              "      buttonEl.style.display =\n",
              "        google.colab.kernel.accessAllowed ? 'block' : 'none';\n",
              "\n",
              "      async function convertToInteractive(key) {\n",
              "        const element = document.querySelector('#df-3093a0f9-f2c6-4544-8a9b-a8f8439481d1');\n",
              "        const dataTable =\n",
              "          await google.colab.kernel.invokeFunction('convertToInteractive',\n",
              "                                                    [key], {});\n",
              "        if (!dataTable) return;\n",
              "\n",
              "        const docLinkHtml = 'Like what you see? Visit the ' +\n",
              "          '<a target=\"_blank\" href=https://colab.research.google.com/notebooks/data_table.ipynb>data table notebook</a>'\n",
              "          + ' to learn more about interactive tables.';\n",
              "        element.innerHTML = '';\n",
              "        dataTable['output_type'] = 'display_data';\n",
              "        await google.colab.output.renderOutput(dataTable, element);\n",
              "        const docLink = document.createElement('div');\n",
              "        docLink.innerHTML = docLinkHtml;\n",
              "        element.appendChild(docLink);\n",
              "      }\n",
              "    </script>\n",
              "  </div>\n",
              "\n",
              "\n",
              "<div id=\"df-6e021883-66e6-4b52-b209-33a7c96d1503\">\n",
              "  <button class=\"colab-df-quickchart\" onclick=\"quickchart('df-6e021883-66e6-4b52-b209-33a7c96d1503')\"\n",
              "            title=\"Suggest charts\"\n",
              "            style=\"display:none;\">\n",
              "\n",
              "<svg xmlns=\"http://www.w3.org/2000/svg\" height=\"24px\"viewBox=\"0 0 24 24\"\n",
              "     width=\"24px\">\n",
              "    <g>\n",
              "        <path d=\"M19 3H5c-1.1 0-2 .9-2 2v14c0 1.1.9 2 2 2h14c1.1 0 2-.9 2-2V5c0-1.1-.9-2-2-2zM9 17H7v-7h2v7zm4 0h-2V7h2v10zm4 0h-2v-4h2v4z\"/>\n",
              "    </g>\n",
              "</svg>\n",
              "  </button>\n",
              "\n",
              "<style>\n",
              "  .colab-df-quickchart {\n",
              "      --bg-color: #E8F0FE;\n",
              "      --fill-color: #1967D2;\n",
              "      --hover-bg-color: #E2EBFA;\n",
              "      --hover-fill-color: #174EA6;\n",
              "      --disabled-fill-color: #AAA;\n",
              "      --disabled-bg-color: #DDD;\n",
              "  }\n",
              "\n",
              "  [theme=dark] .colab-df-quickchart {\n",
              "      --bg-color: #3B4455;\n",
              "      --fill-color: #D2E3FC;\n",
              "      --hover-bg-color: #434B5C;\n",
              "      --hover-fill-color: #FFFFFF;\n",
              "      --disabled-bg-color: #3B4455;\n",
              "      --disabled-fill-color: #666;\n",
              "  }\n",
              "\n",
              "  .colab-df-quickchart {\n",
              "    background-color: var(--bg-color);\n",
              "    border: none;\n",
              "    border-radius: 50%;\n",
              "    cursor: pointer;\n",
              "    display: none;\n",
              "    fill: var(--fill-color);\n",
              "    height: 32px;\n",
              "    padding: 0;\n",
              "    width: 32px;\n",
              "  }\n",
              "\n",
              "  .colab-df-quickchart:hover {\n",
              "    background-color: var(--hover-bg-color);\n",
              "    box-shadow: 0 1px 2px rgba(60, 64, 67, 0.3), 0 1px 3px 1px rgba(60, 64, 67, 0.15);\n",
              "    fill: var(--button-hover-fill-color);\n",
              "  }\n",
              "\n",
              "  .colab-df-quickchart-complete:disabled,\n",
              "  .colab-df-quickchart-complete:disabled:hover {\n",
              "    background-color: var(--disabled-bg-color);\n",
              "    fill: var(--disabled-fill-color);\n",
              "    box-shadow: none;\n",
              "  }\n",
              "\n",
              "  .colab-df-spinner {\n",
              "    border: 2px solid var(--fill-color);\n",
              "    border-color: transparent;\n",
              "    border-bottom-color: var(--fill-color);\n",
              "    animation:\n",
              "      spin 1s steps(1) infinite;\n",
              "  }\n",
              "\n",
              "  @keyframes spin {\n",
              "    0% {\n",
              "      border-color: transparent;\n",
              "      border-bottom-color: var(--fill-color);\n",
              "      border-left-color: var(--fill-color);\n",
              "    }\n",
              "    20% {\n",
              "      border-color: transparent;\n",
              "      border-left-color: var(--fill-color);\n",
              "      border-top-color: var(--fill-color);\n",
              "    }\n",
              "    30% {\n",
              "      border-color: transparent;\n",
              "      border-left-color: var(--fill-color);\n",
              "      border-top-color: var(--fill-color);\n",
              "      border-right-color: var(--fill-color);\n",
              "    }\n",
              "    40% {\n",
              "      border-color: transparent;\n",
              "      border-right-color: var(--fill-color);\n",
              "      border-top-color: var(--fill-color);\n",
              "    }\n",
              "    60% {\n",
              "      border-color: transparent;\n",
              "      border-right-color: var(--fill-color);\n",
              "    }\n",
              "    80% {\n",
              "      border-color: transparent;\n",
              "      border-right-color: var(--fill-color);\n",
              "      border-bottom-color: var(--fill-color);\n",
              "    }\n",
              "    90% {\n",
              "      border-color: transparent;\n",
              "      border-bottom-color: var(--fill-color);\n",
              "    }\n",
              "  }\n",
              "</style>\n",
              "\n",
              "  <script>\n",
              "    async function quickchart(key) {\n",
              "      const quickchartButtonEl =\n",
              "        document.querySelector('#' + key + ' button');\n",
              "      quickchartButtonEl.disabled = true;  // To prevent multiple clicks.\n",
              "      quickchartButtonEl.classList.add('colab-df-spinner');\n",
              "      try {\n",
              "        const charts = await google.colab.kernel.invokeFunction(\n",
              "            'suggestCharts', [key], {});\n",
              "      } catch (error) {\n",
              "        console.error('Error during call to suggestCharts:', error);\n",
              "      }\n",
              "      quickchartButtonEl.classList.remove('colab-df-spinner');\n",
              "      quickchartButtonEl.classList.add('colab-df-quickchart-complete');\n",
              "    }\n",
              "    (() => {\n",
              "      let quickchartButtonEl =\n",
              "        document.querySelector('#df-6e021883-66e6-4b52-b209-33a7c96d1503 button');\n",
              "      quickchartButtonEl.style.display =\n",
              "        google.colab.kernel.accessAllowed ? 'block' : 'none';\n",
              "    })();\n",
              "  </script>\n",
              "</div>\n",
              "\n",
              "    </div>\n",
              "  </div>\n"
            ],
            "application/vnd.google.colaboratory.intrinsic+json": {
              "type": "dataframe",
              "summary": "{\n  \"name\": \"df[['ApplicantIncome','CoapplicantIncome','LoanAmount']]\",\n  \"rows\": 8,\n  \"fields\": [\n    {\n      \"column\": \"ApplicantIncome\",\n      \"properties\": {\n        \"dtype\": \"number\",\n        \"std\": 27480.19432327756,\n        \"min\": 150.0,\n        \"max\": 81000.0,\n        \"num_unique_values\": 8,\n        \"samples\": [\n          5403.459283387622,\n          3812.5,\n          614.0\n        ],\n        \"semantic_type\": \"\",\n        \"description\": \"\"\n      }\n    },\n    {\n      \"column\": \"CoapplicantIncome\",\n      \"properties\": {\n        \"dtype\": \"number\",\n        \"std\": 14332.564053846478,\n        \"min\": 0.0,\n        \"max\": 41667.0,\n        \"num_unique_values\": 7,\n        \"samples\": [\n          614.0,\n          1621.2457980271008,\n          2297.25\n        ],\n        \"semantic_type\": \"\",\n        \"description\": \"\"\n      }\n    },\n    {\n      \"column\": \"LoanAmount\",\n      \"properties\": {\n        \"dtype\": \"number\",\n        \"std\": 256.0091610169859,\n        \"min\": 9.0,\n        \"max\": 700.0,\n        \"num_unique_values\": 8,\n        \"samples\": [\n          146.41216216216216,\n          128.0,\n          592.0\n        ],\n        \"semantic_type\": \"\",\n        \"description\": \"\"\n      }\n    }\n  ]\n}"
            }
          },
          "metadata": {},
          "execution_count": 30
        }
      ]
    },
    {
      "cell_type": "markdown",
      "source": [
        "### 4.2.2 Distribution of Numerical Variable 📈\n",
        "👉 In this section, I will show the distribution of numerical variable using histogram and violin plot."
      ],
      "metadata": {
        "id": "xVh_xjKZNFtZ"
      }
    },
    {
      "cell_type": "markdown",
      "source": [
        "#### 4.2.2.1 Histogram Distribution 📉"
      ],
      "metadata": {
        "id": "26oBuCCFRHdt"
      }
    },
    {
      "cell_type": "code",
      "source": [
        "sns.set(style=\"darkgrid\")\n",
        "fig, axs = plt.subplots(2, 2, figsize=(10, 8))\n",
        "\n",
        "sns.histplot(data=df, x=\"ApplicantIncome\", kde=True, ax=axs[0, 0], color='green')\n",
        "sns.histplot(data=df, x=\"CoapplicantIncome\", kde=True, ax=axs[0, 1], color='skyblue')\n",
        "sns.histplot(data=df, x=\"LoanAmount\", kde=True, ax=axs[1, 0], color='orange');"
      ],
      "metadata": {
        "id": "nNQVNECjOV_R",
        "outputId": "86491c15-ac1b-483a-f9bb-115018af5d18",
        "execution": {
          "iopub.status.busy": "2022-03-08T02:28:38.689878Z",
          "iopub.execute_input": "2022-03-08T02:28:38.690671Z",
          "iopub.status.idle": "2022-03-08T02:28:39.971075Z",
          "shell.execute_reply.started": "2022-03-08T02:28:38.690634Z",
          "shell.execute_reply": "2022-03-08T02:28:39.970078Z"
        },
        "trusted": true,
        "colab": {
          "base_uri": "https://localhost:8080/",
          "height": 709
        }
      },
      "execution_count": 31,
      "outputs": [
        {
          "output_type": "display_data",
          "data": {
            "text/plain": [
              "<Figure size 1000x800 with 4 Axes>"
            ],
            "image/png": "[encoded data removed]"
          },
          "metadata": {}
        }
      ]
    },
    {
      "cell_type": "markdown",
      "source": [
        "#### 4.2.2.2 Violin Plot 🎻"
      ],
      "metadata": {
        "id": "Wm-uWGyORLEh"
      }
    },
    {
      "cell_type": "code",
      "source": [
        "sns.set(style=\"darkgrid\")\n",
        "fig, axs1 = plt.subplots(2, 2, figsize=(10, 10))\n",
        "\n",
        "sns.violinplot(data=df, y=\"ApplicantIncome\", ax=axs1[0, 0], color='green')\n",
        "sns.violinplot(data=df, y=\"CoapplicantIncome\", ax=axs1[0, 1], color='skyblue')\n",
        "sns.violinplot(data=df, y=\"LoanAmount\", ax=axs1[1, 0], color='orange');"
      ],
      "metadata": {
        "id": "bqcMEGfUQDTM",
        "outputId": "4a549261-b893-4e4c-e025-fe7c3db924f9",
        "execution": {
          "iopub.status.busy": "2022-03-08T02:28:39.972416Z",
          "iopub.execute_input": "2022-03-08T02:28:39.973102Z",
          "iopub.status.idle": "2022-03-08T02:28:40.810081Z",
          "shell.execute_reply.started": "2022-03-08T02:28:39.973059Z",
          "shell.execute_reply": "2022-03-08T02:28:40.809237Z"
        },
        "trusted": true,
        "colab": {
          "base_uri": "https://localhost:8080/",
          "height": 835
        }
      },
      "execution_count": 32,
      "outputs": [
        {
          "output_type": "display_data",
          "data": {
            "text/plain": [
              "<Figure size 1000x1000 with 4 Axes>"
            ],
            "image/png": "[encoded data removed]"
          },
          "metadata": {}
        }
      ]
    },
    {
      "cell_type": "markdown",
      "source": [
        "*   The distribution of **Applicant income, Co Applicant Income, and Loan Amount** are **positively skewed** and **it has outliers** (can be seen from both histogram and violin plot).\n",
        "*   The distribution of **Loan Amount Term** is **negativly skewed** and **it has outliers.**\n",
        "\n"
      ],
      "metadata": {
        "id": "26VEP1r5SyM_"
      }
    },
    {
      "cell_type": "markdown",
      "source": [
        "## 4.3 Other Exploration 💹\n",
        "👉 This section will show additional exploration from each variables. The additional exploration are:\n",
        "*   Bivariate analysis (categorical w/ categorical, categroical w/ numerical, and numerical w/ numerical)\n",
        "*   Heatmap\n",
        "\n"
      ],
      "metadata": {
        "id": "sBAeM4ZWXuOI"
      }
    },
    {
      "cell_type": "markdown",
      "source": [
        "### 4.3.1 Heatmap 🔥"
      ],
      "metadata": {
        "id": "GsaiF0JAYrTA"
      }
    },
    {
      "cell_type": "code",
      "source": [
        "plt.figure(figsize=(10,7))\n",
        "sns.heatmap(df.corr(), annot=True, cmap='inferno');"
      ],
      "metadata": {
        "id": "eCrq4rn7XxTt",
        "outputId": "37315b49-6426-4e3f-a82c-3ab4f6e9f121",
        "execution": {
          "iopub.status.busy": "2022-03-08T02:28:40.811534Z",
          "iopub.execute_input": "2022-03-08T02:28:40.812203Z",
          "iopub.status.idle": "2022-03-08T02:28:41.231396Z",
          "shell.execute_reply.started": "2022-03-08T02:28:40.812149Z",
          "shell.execute_reply": "2022-03-08T02:28:41.230423Z"
        },
        "trusted": true,
        "colab": {
          "base_uri": "https://localhost:8080/",
          "height": 321
        }
      },
      "execution_count": 33,
      "outputs": [
        {
          "output_type": "error",
          "ename": "ValueError",
          "evalue": "could not convert string to float: 'LP001002'",
          "traceback": [
            "\u001b[0;31m---------------------------------------------------------------------------\u001b[0m",
            "\u001b[0;31mValueError\u001b[0m                                Traceback (most recent call last)",
            "\u001b[0;32m<ipython-input-33-5ae8d32d347d>\u001b[0m in \u001b[0;36m<cell line: 2>\u001b[0;34m()\u001b[0m\n\u001b[1;32m      1\u001b[0m \u001b[0mplt\u001b[0m\u001b[0;34m.\u001b[0m\u001b[0mfigure\u001b[0m\u001b[0;34m(\u001b[0m\u001b[0mfigsize\u001b[0m\u001b[0;34m=\u001b[0m\u001b[0;34m(\u001b[0m\u001b[0;36m10\u001b[0m\u001b[0;34m,\u001b[0m\u001b[0;36m7\u001b[0m\u001b[0;34m)\u001b[0m\u001b[0;34m)\u001b[0m\u001b[0;34m\u001b[0m\u001b[0;34m\u001b[0m\u001b[0m\n\u001b[0;32m----> 2\u001b[0;31m \u001b[0msns\u001b[0m\u001b[0;34m.\u001b[0m\u001b[0mheatmap\u001b[0m\u001b[0;34m(\u001b[0m\u001b[0mdf\u001b[0m\u001b[0;34m.\u001b[0m\u001b[0mcorr\u001b[0m\u001b[0;34m(\u001b[0m\u001b[0;34m)\u001b[0m\u001b[0;34m,\u001b[0m \u001b[0mannot\u001b[0m\u001b[0;34m=\u001b[0m\u001b[0;32mTrue\u001b[0m\u001b[0;34m,\u001b[0m \u001b[0mcmap\u001b[0m\u001b[0;34m=\u001b[0m\u001b[0;34m'inferno'\u001b[0m\u001b[0;34m)\u001b[0m\u001b[0;34m;\u001b[0m\u001b[0;34m\u001b[0m\u001b[0;34m\u001b[0m\u001b[0m\n\u001b[0m",
            "\u001b[0;32m/usr/local/lib/python3.10/dist-packages/pandas/core/frame.py\u001b[0m in \u001b[0;36mcorr\u001b[0;34m(self, method, min_periods, numeric_only)\u001b[0m\n\u001b[1;32m  10052\u001b[0m         \u001b[0mcols\u001b[0m \u001b[0;34m=\u001b[0m \u001b[0mdata\u001b[0m\u001b[0;34m.\u001b[0m\u001b[0mcolumns\u001b[0m\u001b[0;34m\u001b[0m\u001b[0;34m\u001b[0m\u001b[0m\n\u001b[1;32m  10053\u001b[0m         \u001b[0midx\u001b[0m \u001b[0;34m=\u001b[0m \u001b[0mcols\u001b[0m\u001b[0;34m.\u001b[0m\u001b[0mcopy\u001b[0m\u001b[0;34m(\u001b[0m\u001b[0;34m)\u001b[0m\u001b[0;34m\u001b[0m\u001b[0;34m\u001b[0m\u001b[0m\n\u001b[0;32m> 10054\u001b[0;31m         \u001b[0mmat\u001b[0m \u001b[0;34m=\u001b[0m \u001b[0mdata\u001b[0m\u001b[0;34m.\u001b[0m\u001b[0mto_numpy\u001b[0m\u001b[0;34m(\u001b[0m\u001b[0mdtype\u001b[0m\u001b[0;34m=\u001b[0m\u001b[0mfloat\u001b[0m\u001b[0;34m,\u001b[0m \u001b[0mna_value\u001b[0m\u001b[0;34m=\u001b[0m\u001b[0mnp\u001b[0m\u001b[0;34m.\u001b[0m\u001b[0mnan\u001b[0m\u001b[0;34m,\u001b[0m \u001b[0mcopy\u001b[0m\u001b[0;34m=\u001b[0m\u001b[0;32mFalse\u001b[0m\u001b[0;34m)\u001b[0m\u001b[0;34m\u001b[0m\u001b[0;34m\u001b[0m\u001b[0m\n\u001b[0m\u001b[1;32m  10055\u001b[0m \u001b[0;34m\u001b[0m\u001b[0m\n\u001b[1;32m  10056\u001b[0m         \u001b[0;32mif\u001b[0m \u001b[0mmethod\u001b[0m \u001b[0;34m==\u001b[0m \u001b[0;34m\"pearson\"\u001b[0m\u001b[0;34m:\u001b[0m\u001b[0;34m\u001b[0m\u001b[0;34m\u001b[0m\u001b[0m\n",
            "\u001b[0;32m/usr/local/lib/python3.10/dist-packages/pandas/core/frame.py\u001b[0m in \u001b[0;36mto_numpy\u001b[0;34m(self, dtype, copy, na_value)\u001b[0m\n\u001b[1;32m   1836\u001b[0m         \u001b[0;32mif\u001b[0m \u001b[0mdtype\u001b[0m \u001b[0;32mis\u001b[0m \u001b[0;32mnot\u001b[0m \u001b[0;32mNone\u001b[0m\u001b[0;34m:\u001b[0m\u001b[0;34m\u001b[0m\u001b[0;34m\u001b[0m\u001b[0m\n\u001b[1;32m   1837\u001b[0m             \u001b[0mdtype\u001b[0m \u001b[0;34m=\u001b[0m \u001b[0mnp\u001b[0m\u001b[0;34m.\u001b[0m\u001b[0mdtype\u001b[0m\u001b[0;34m(\u001b[0m\u001b[0mdtype\u001b[0m\u001b[0;34m)\u001b[0m\u001b[0;34m\u001b[0m\u001b[0;34m\u001b[0m\u001b[0m\n\u001b[0;32m-> 1838\u001b[0;31m         \u001b[0mresult\u001b[0m \u001b[0;34m=\u001b[0m \u001b[0mself\u001b[0m\u001b[0;34m.\u001b[0m\u001b[0m_mgr\u001b[0m\u001b[0;34m.\u001b[0m\u001b[0mas_array\u001b[0m\u001b[0;34m(\u001b[0m\u001b[0mdtype\u001b[0m\u001b[0;34m=\u001b[0m\u001b[0mdtype\u001b[0m\u001b[0;34m,\u001b[0m \u001b[0mcopy\u001b[0m\u001b[0;34m=\u001b[0m\u001b[0mcopy\u001b[0m\u001b[0;34m,\u001b[0m \u001b[0mna_value\u001b[0m\u001b[0;34m=\u001b[0m\u001b[0mna_value\u001b[0m\u001b[0;34m)\u001b[0m\u001b[0;34m\u001b[0m\u001b[0;34m\u001b[0m\u001b[0m\n\u001b[0m\u001b[1;32m   1839\u001b[0m         \u001b[0;32mif\u001b[0m \u001b[0mresult\u001b[0m\u001b[0;34m.\u001b[0m\u001b[0mdtype\u001b[0m \u001b[0;32mis\u001b[0m \u001b[0;32mnot\u001b[0m \u001b[0mdtype\u001b[0m\u001b[0;34m:\u001b[0m\u001b[0;34m\u001b[0m\u001b[0;34m\u001b[0m\u001b[0m\n\u001b[1;32m   1840\u001b[0m             \u001b[0mresult\u001b[0m \u001b[0;34m=\u001b[0m \u001b[0mnp\u001b[0m\u001b[0;34m.\u001b[0m\u001b[0marray\u001b[0m\u001b[0;34m(\u001b[0m\u001b[0mresult\u001b[0m\u001b[0;34m,\u001b[0m \u001b[0mdtype\u001b[0m\u001b[0;34m=\u001b[0m\u001b[0mdtype\u001b[0m\u001b[0;34m,\u001b[0m \u001b[0mcopy\u001b[0m\u001b[0;34m=\u001b[0m\u001b[0;32mFalse\u001b[0m\u001b[0;34m)\u001b[0m\u001b[0;34m\u001b[0m\u001b[0;34m\u001b[0m\u001b[0m\n",
            "\u001b[0;32m/usr/local/lib/python3.10/dist-packages/pandas/core/internals/managers.py\u001b[0m in \u001b[0;36mas_array\u001b[0;34m(self, dtype, copy, na_value)\u001b[0m\n\u001b[1;32m   1730\u001b[0m                 \u001b[0marr\u001b[0m\u001b[0;34m.\u001b[0m\u001b[0mflags\u001b[0m\u001b[0;34m.\u001b[0m\u001b[0mwriteable\u001b[0m \u001b[0;34m=\u001b[0m \u001b[0;32mFalse\u001b[0m\u001b[0;34m\u001b[0m\u001b[0;34m\u001b[0m\u001b[0m\n\u001b[1;32m   1731\u001b[0m         \u001b[0;32melse\u001b[0m\u001b[0;34m:\u001b[0m\u001b[0;34m\u001b[0m\u001b[0;34m\u001b[0m\u001b[0m\n\u001b[0;32m-> 1732\u001b[0;31m             \u001b[0marr\u001b[0m \u001b[0;34m=\u001b[0m \u001b[0mself\u001b[0m\u001b[0;34m.\u001b[0m\u001b[0m_interleave\u001b[0m\u001b[0;34m(\u001b[0m\u001b[0mdtype\u001b[0m\u001b[0;34m=\u001b[0m\u001b[0mdtype\u001b[0m\u001b[0;34m,\u001b[0m \u001b[0mna_value\u001b[0m\u001b[0;34m=\u001b[0m\u001b[0mna_value\u001b[0m\u001b[0;34m)\u001b[0m\u001b[0;34m\u001b[0m\u001b[0;34m\u001b[0m\u001b[0m\n\u001b[0m\u001b[1;32m   1733\u001b[0m             \u001b[0;31m# The underlying data was copied within _interleave, so no need\u001b[0m\u001b[0;34m\u001b[0m\u001b[0;34m\u001b[0m\u001b[0m\n\u001b[1;32m   1734\u001b[0m             \u001b[0;31m# to further copy if copy=True or setting na_value\u001b[0m\u001b[0;34m\u001b[0m\u001b[0;34m\u001b[0m\u001b[0m\n",
            "\u001b[0;32m/usr/local/lib/python3.10/dist-packages/pandas/core/internals/managers.py\u001b[0m in \u001b[0;36m_interleave\u001b[0;34m(self, dtype, na_value)\u001b[0m\n\u001b[1;32m   1792\u001b[0m             \u001b[0;32melse\u001b[0m\u001b[0;34m:\u001b[0m\u001b[0;34m\u001b[0m\u001b[0;34m\u001b[0m\u001b[0m\n\u001b[1;32m   1793\u001b[0m                 \u001b[0marr\u001b[0m \u001b[0;34m=\u001b[0m \u001b[0mblk\u001b[0m\u001b[0;34m.\u001b[0m\u001b[0mget_values\u001b[0m\u001b[0;34m(\u001b[0m\u001b[0mdtype\u001b[0m\u001b[0;34m)\u001b[0m\u001b[0;34m\u001b[0m\u001b[0;34m\u001b[0m\u001b[0m\n\u001b[0;32m-> 1794\u001b[0;31m             \u001b[0mresult\u001b[0m\u001b[0;34m[\u001b[0m\u001b[0mrl\u001b[0m\u001b[0;34m.\u001b[0m\u001b[0mindexer\u001b[0m\u001b[0;34m]\u001b[0m \u001b[0;34m=\u001b[0m \u001b[0marr\u001b[0m\u001b[0;34m\u001b[0m\u001b[0;34m\u001b[0m\u001b[0m\n\u001b[0m\u001b[1;32m   1795\u001b[0m             \u001b[0mitemmask\u001b[0m\u001b[0;34m[\u001b[0m\u001b[0mrl\u001b[0m\u001b[0;34m.\u001b[0m\u001b[0mindexer\u001b[0m\u001b[0;34m]\u001b[0m \u001b[0;34m=\u001b[0m \u001b[0;36m1\u001b[0m\u001b[0;34m\u001b[0m\u001b[0;34m\u001b[0m\u001b[0m\n\u001b[1;32m   1796\u001b[0m \u001b[0;34m\u001b[0m\u001b[0m\n",
            "\u001b[0;31mValueError\u001b[0m: could not convert string to float: 'LP001002'"
          ]
        },
        {
          "output_type": "display_data",
          "data": {
            "text/plain": [
              "<Figure size 1000x700 with 0 Axes>"
            ]
          },
          "metadata": {}
        }
      ]
    },
    {
      "cell_type": "markdown",
      "source": [
        "👉 There is positive correlation between Loan Amount and Applicant Income"
      ],
      "metadata": {
        "id": "BcZG6vDpfchM"
      }
    },
    {
      "cell_type": "markdown",
      "source": [
        "### 4.3.2 Categorical 📊 - Categorical 📊"
      ],
      "metadata": {
        "id": "IOm0V24oYyQb"
      }
    },
    {
      "cell_type": "code",
      "source": [
        "pd.crosstab(df.Gender,df.Married).plot(kind=\"bar\", stacked=True, figsize=(5,5), color=['#f64f59','#12c2e9'])\n",
        "plt.title('Gender vs Married')\n",
        "plt.xlabel('Gender')\n",
        "plt.ylabel('Frequency')\n",
        "plt.xticks(rotation=0)\n",
        "plt.show()"
      ],
      "metadata": {
        "id": "sO2zNOYmYxkt",
        "outputId": "54fc65c5-b890-488e-d471-72c986d1109d",
        "execution": {
          "iopub.status.busy": "2022-03-08T02:28:41.233063Z",
          "iopub.execute_input": "2022-03-08T02:28:41.233342Z",
          "iopub.status.idle": "2022-03-08T02:28:41.480179Z",
          "shell.execute_reply.started": "2022-03-08T02:28:41.233312Z",
          "shell.execute_reply": "2022-03-08T02:28:41.479096Z"
        },
        "trusted": true
      },
      "execution_count": null,
      "outputs": [
        {
          "output_type": "display_data",
          "data": {
            "text/plain": "<Figure size 360x360 with 1 Axes>",
            "image/png": "[encoded data removed]"
          },
          "metadata": {}
        }
      ]
    },
    {
      "cell_type": "markdown",
      "source": [
        "👉 Most male applicants are already married compared to female applicants. Also, the number of not married male applicants are higher compare to female applicants that had not married."
      ],
      "metadata": {
        "id": "H2ic-PSOfxJq"
      }
    },
    {
      "cell_type": "code",
      "source": [
        "pd.crosstab(df.Self_Employed,df.Credit_History).plot(kind=\"bar\", stacked=True, figsize=(5,5), color=['#544a7d','#ffd452'])\n",
        "plt.title('Self Employed vs Credit History')\n",
        "plt.xlabel('Self Employed')\n",
        "plt.ylabel('Frequency')\n",
        "plt.legend([\"Bad Credit\", \"Good Credit\"])\n",
        "plt.xticks(rotation=0)\n",
        "plt.show()"
      ],
      "metadata": {
        "id": "Qkge_XadbuLA",
        "outputId": "90ab5cd5-3a90-48e8-b200-465ad802c86b",
        "execution": {
          "iopub.status.busy": "2022-03-08T02:28:41.481434Z",
          "iopub.execute_input": "2022-03-08T02:28:41.481676Z",
          "iopub.status.idle": "2022-03-08T02:28:41.707093Z",
          "shell.execute_reply.started": "2022-03-08T02:28:41.481646Z",
          "shell.execute_reply": "2022-03-08T02:28:41.706420Z"
        },
        "trusted": true
      },
      "execution_count": null,
      "outputs": [
        {
          "output_type": "display_data",
          "data": {
            "text/plain": "<Figure size 360x360 with 1 Axes>",
            "image/png": "[encoded data removed]"
          },
          "metadata": {}
        }
      ]
    },
    {
      "cell_type": "markdown",
      "source": [
        "👉 Most not self employed applicants have good credit compared to self employed applicants."
      ],
      "metadata": {
        "id": "Ab_vh1DWgFS3"
      }
    },
    {
      "cell_type": "code",
      "source": [
        "pd.crosstab(df.Property_Area,df.Loan_Status).plot(kind=\"bar\", stacked=True, figsize=(5,5), color=['#333333','#dd1818'])\n",
        "plt.title('Property Area vs Loan Status')\n",
        "plt.xlabel('Property Area')\n",
        "plt.ylabel('Frequency')\n",
        "plt.xticks(rotation=0)\n",
        "plt.show()"
      ],
      "metadata": {
        "id": "p1ztJv3wcyRA",
        "outputId": "de51e6c0-fa1a-441b-aefc-b7f9d3a49ea4",
        "execution": {
          "iopub.status.busy": "2022-03-08T02:28:41.708419Z",
          "iopub.execute_input": "2022-03-08T02:28:41.709163Z",
          "iopub.status.idle": "2022-03-08T02:28:41.960066Z",
          "shell.execute_reply.started": "2022-03-08T02:28:41.709099Z",
          "shell.execute_reply": "2022-03-08T02:28:41.958392Z"
        },
        "trusted": true
      },
      "execution_count": null,
      "outputs": [
        {
          "output_type": "display_data",
          "data": {
            "text/plain": "<Figure size 360x360 with 1 Axes>",
            "image/png": "[encoded data removed]"
          },
          "metadata": {}
        }
      ]
    },
    {
      "cell_type": "markdown",
      "source": [
        "👉 Most of loan that got accepted has property in Semiurban compared to Urban and Rural."
      ],
      "metadata": {
        "id": "yj4e2UvjgWsm"
      }
    },
    {
      "cell_type": "markdown",
      "source": [
        "### 4.3.3 Categorical 📊- Numerical 📈"
      ],
      "metadata": {
        "id": "GkPfU3KQdJvH"
      }
    },
    {
      "cell_type": "code",
      "source": [
        "sns.boxplot(x=\"Loan_Status\", y=\"ApplicantIncome\", data=df, palette=\"mako\");"
      ],
      "metadata": {
        "id": "8KXyIhTWdNoP",
        "outputId": "bd86772f-6998-4945-9f6e-840becad037d",
        "execution": {
          "iopub.status.busy": "2022-03-08T02:28:41.961863Z",
          "iopub.execute_input": "2022-03-08T02:28:41.962272Z",
          "iopub.status.idle": "2022-03-08T02:28:42.203300Z",
          "shell.execute_reply.started": "2022-03-08T02:28:41.962219Z",
          "shell.execute_reply": "2022-03-08T02:28:42.202422Z"
        },
        "trusted": true
      },
      "execution_count": null,
      "outputs": [
        {
          "output_type": "display_data",
          "data": {
            "text/plain": "<Figure size 432x288 with 1 Axes>",
            "image/png": "[encoded data removed]"
          },
          "metadata": {}
        }
      ]
    },
    {
      "cell_type": "markdown",
      "source": [
        "👉 It can be seen that there are lots of outliers in Applicant Income, and the distribution also positively skewed"
      ],
      "metadata": {
        "id": "sK5NrWpdiIbg"
      }
    },
    {
      "cell_type": "code",
      "source": [
        "sns.boxplot(x=\"CoapplicantIncome\", y=\"Loan_Status\", data=df, palette=\"rocket\");"
      ],
      "metadata": {
        "id": "UQgw9pSSdNgK",
        "outputId": "1b8f1689-5929-4d51-d774-8ebc72803330",
        "execution": {
          "iopub.status.busy": "2022-03-08T02:28:42.204583Z",
          "iopub.execute_input": "2022-03-08T02:28:42.204811Z",
          "iopub.status.idle": "2022-03-08T02:28:42.444504Z",
          "shell.execute_reply.started": "2022-03-08T02:28:42.204783Z",
          "shell.execute_reply": "2022-03-08T02:28:42.443405Z"
        },
        "trusted": true
      },
      "execution_count": null,
      "outputs": [
        {
          "output_type": "display_data",
          "data": {
            "text/plain": "<Figure size 432x288 with 1 Axes>",
            "image/png": "[encoded data removed]"
          },
          "metadata": {}
        }
      ]
    },
    {
      "cell_type": "markdown",
      "source": [
        "👉 It's clear that Co Applicant Income has a number of outliers, and the distribution is also positively skewed."
      ],
      "metadata": {
        "id": "Y7DFLTqpibiJ"
      }
    },
    {
      "cell_type": "code",
      "source": [
        "sns.boxplot(x=\"Loan_Status\", y=\"LoanAmount\", data=df, palette=\"YlOrBr\");"
      ],
      "metadata": {
        "id": "341fyImTdNO9",
        "outputId": "e2f5ee90-ebc8-446d-8d75-d8de51872e3b",
        "execution": {
          "iopub.status.busy": "2022-03-08T02:28:42.446227Z",
          "iopub.execute_input": "2022-03-08T02:28:42.446574Z",
          "iopub.status.idle": "2022-03-08T02:28:42.668234Z",
          "shell.execute_reply.started": "2022-03-08T02:28:42.446528Z",
          "shell.execute_reply": "2022-03-08T02:28:42.667278Z"
        },
        "trusted": true
      },
      "execution_count": null,
      "outputs": [
        {
          "output_type": "display_data",
          "data": {
            "text/plain": "<Figure size 432x288 with 1 Axes>",
            "image/png": "[encoded data removed]"
          },
          "metadata": {}
        }
      ]
    },
    {
      "cell_type": "markdown",
      "source": [
        "👉 As can be seen, Co Applicant Income has a high number of outliers, and the distribution is also positively skewed."
      ],
      "metadata": {
        "id": "35BpJYOJio5M"
      }
    },
    {
      "cell_type": "markdown",
      "source": [
        "### 4.3.4 Numerical 📈 - Numerical 📈"
      ],
      "metadata": {
        "id": "qwYT4WuSi1BA"
      }
    },
    {
      "cell_type": "code",
      "source": [
        "df.plot(x='ApplicantIncome', y='CoapplicantIncome', style='o')\n",
        "plt.title('Applicant Income - Co Applicant Income')\n",
        "plt.xlabel('ApplicantIncome')\n",
        "plt.ylabel('CoapplicantIncome')\n",
        "plt.show()\n",
        "print('Pearson correlation:', df['ApplicantIncome'].corr(df['CoapplicantIncome']))\n",
        "print('T Test and P value: \\n', stats.ttest_ind(df['ApplicantIncome'], df['CoapplicantIncome']))"
      ],
      "metadata": {
        "id": "xEWeAA3Fi3XJ",
        "outputId": "5df5dfce-7ac0-4df4-f570-f580025ef1fa",
        "execution": {
          "iopub.status.busy": "2022-03-08T02:28:42.669691Z",
          "iopub.execute_input": "2022-03-08T02:28:42.669929Z",
          "iopub.status.idle": "2022-03-08T02:28:42.965600Z",
          "shell.execute_reply.started": "2022-03-08T02:28:42.669899Z",
          "shell.execute_reply": "2022-03-08T02:28:42.964525Z"
        },
        "trusted": true
      },
      "execution_count": null,
      "outputs": [
        {
          "output_type": "display_data",
          "data": {
            "text/plain": "<Figure size 432x288 with 1 Axes>",
            "image/png": "[encoded data removed]"
          },
          "metadata": {}
        },
        {
          "name": "stdout",
          "text": "Pearson correlation: -0.11660458122889966\nT Test and P value: \n Ttest_indResult(statistic=13.835753259915661, pvalue=1.4609839484240346e-40)\n",
          "output_type": "stream"
        }
      ]
    },
    {
      "cell_type": "markdown",
      "source": [
        "*   There is **negative correlation** between Applicant income and Co Applicant Income.\n",
        "*   The correlation coefficient is **significant** at the 95 per cent confidence interval, as it has a **p-value of 1.46**\n"
      ],
      "metadata": {
        "id": "9W0f-Mi5q_WA"
      }
    },
    {
      "cell_type": "markdown",
      "source": [
        "## 4.4 Null Values 🚫"
      ],
      "metadata": {
        "id": "Jq0D9_A1VSV9"
      }
    },
    {
      "cell_type": "code",
      "source": [
        "df.isnull().sum()"
      ],
      "metadata": {
        "id": "Buorzh0-VVPS",
        "outputId": "6592eeef-9c3c-4d11-f84c-30b18d4f25a2",
        "execution": {
          "iopub.status.busy": "2022-03-08T02:28:42.967162Z",
          "iopub.execute_input": "2022-03-08T02:28:42.967429Z",
          "iopub.status.idle": "2022-03-08T02:28:42.978964Z",
          "shell.execute_reply.started": "2022-03-08T02:28:42.967397Z",
          "shell.execute_reply": "2022-03-08T02:28:42.977764Z"
        },
        "trusted": true
      },
      "execution_count": null,
      "outputs": [
        {
          "execution_count": 40,
          "output_type": "execute_result",
          "data": {
            "text/plain": "Loan_ID               0\nGender               13\nMarried               3\nDependents           15\nEducation             0\nSelf_Employed        32\nApplicantIncome       0\nCoapplicantIncome     0\nLoanAmount           22\nLoan_Amount_Term     14\nCredit_History       50\nProperty_Area         0\nLoan_Status           0\ndtype: int64"
          },
          "metadata": {}
        }
      ]
    },
    {
      "cell_type": "code",
      "source": [
        "plt.figure(figsize = (24, 5))\n",
        "axz = plt.subplot(1,2,2)\n",
        "mso.bar(df, ax = axz, fontsize = 12);"
      ],
      "metadata": {
        "id": "MSESe0JvVZ67",
        "outputId": "87a1f38f-1c71-4869-fd76-d389e5cc80be",
        "execution": {
          "iopub.status.busy": "2022-03-08T02:28:42.984200Z",
          "iopub.execute_input": "2022-03-08T02:28:42.984509Z",
          "iopub.status.idle": "2022-03-08T02:28:44.077905Z",
          "shell.execute_reply.started": "2022-03-08T02:28:42.984476Z",
          "shell.execute_reply": "2022-03-08T02:28:44.076710Z"
        },
        "trusted": true
      },
      "execution_count": null,
      "outputs": [
        {
          "output_type": "display_data",
          "data": {
            "text/plain": "<Figure size 1728x360 with 3 Axes>",
            "image/png": "[encoded data removed]"
          },
          "metadata": {}
        }
      ]
    },
    {
      "cell_type": "markdown",
      "source": [
        "👉 Previously, the null values has been explored for Categorical Variables. In this section, the null values has been explored **for all variables** in the dataset."
      ],
      "metadata": {
        "id": "b6LoQvhRVUup"
      }
    },
    {
      "cell_type": "markdown",
      "source": [
        "# 5. Data Preprocessing ⚙"
      ],
      "metadata": {
        "id": "i0K8wc4UVyX2"
      }
    },
    {
      "cell_type": "markdown",
      "source": [
        "## 5.1 Drop Unecessary Variables 🔻\n",
        "👉 Unecessary variables will be dropped in this section."
      ],
      "metadata": {
        "id": "_JhvC2qZW4ke"
      }
    },
    {
      "cell_type": "code",
      "source": [
        "df = df.drop(['Loan_ID'], axis = 1)"
      ],
      "metadata": {
        "id": "w255orBlXxSC",
        "execution": {
          "iopub.status.busy": "2022-03-08T02:28:44.079771Z",
          "iopub.execute_input": "2022-03-08T02:28:44.080450Z",
          "iopub.status.idle": "2022-03-08T02:28:44.089968Z",
          "shell.execute_reply.started": "2022-03-08T02:28:44.080387Z",
          "shell.execute_reply": "2022-03-08T02:28:44.088803Z"
        },
        "trusted": true
      },
      "execution_count": null,
      "outputs": []
    },
    {
      "cell_type": "markdown",
      "source": [
        "## 5.2 Data Imputation 📝\n",
        "👉 Imputation is a technique for substituting an estimated value for missing values in a dataset. In this section, the imputation will be performed for variables that have missing values."
      ],
      "metadata": {
        "id": "E9RXvNsoV16b"
      }
    },
    {
      "cell_type": "markdown",
      "source": [
        "### 5.2.1 Categorical Variables 📊\n",
        "👉 In this section, the imputation for categorical variables will be performed using **mode**."
      ],
      "metadata": {
        "id": "uziNPF4eGlyJ"
      }
    },
    {
      "cell_type": "code",
      "source": [
        "df['Gender'].fillna(df['Gender'].mode()[0],inplace=True)\n",
        "df['Married'].fillna(df['Married'].mode()[0],inplace=True)\n",
        "df['Dependents'].fillna(df['Dependents'].mode()[0],inplace=True)\n",
        "df['Self_Employed'].fillna(df['Self_Employed'].mode()[0],inplace=True)\n",
        "df['Credit_History'].fillna(df['Credit_History'].mode()[0],inplace=True)\n",
        "df['Loan_Amount_Term'].fillna(df['Loan_Amount_Term'].mode()[0],inplace=True)"
      ],
      "metadata": {
        "id": "1Dna_U33V09a",
        "execution": {
          "iopub.status.busy": "2022-03-08T02:28:44.091450Z",
          "iopub.execute_input": "2022-03-08T02:28:44.092049Z",
          "iopub.status.idle": "2022-03-08T02:28:44.107656Z",
          "shell.execute_reply.started": "2022-03-08T02:28:44.091906Z",
          "shell.execute_reply": "2022-03-08T02:28:44.106250Z"
        },
        "trusted": true
      },
      "execution_count": null,
      "outputs": []
    },
    {
      "cell_type": "markdown",
      "source": [
        "### 5.2.2 Numerical Variables 📈\n",
        "👉 The next section is imputation for numerical variables using **mean**."
      ],
      "metadata": {
        "id": "7s3L4BM0Gvpr"
      }
    },
    {
      "cell_type": "code",
      "source": [
        "df['LoanAmount'].fillna(df['LoanAmount'].mean(),inplace=True)"
      ],
      "metadata": {
        "id": "OayJ893bG665",
        "execution": {
          "iopub.status.busy": "2022-03-08T02:28:44.109095Z",
          "iopub.execute_input": "2022-03-08T02:28:44.109628Z",
          "iopub.status.idle": "2022-03-08T02:28:44.122222Z",
          "shell.execute_reply.started": "2022-03-08T02:28:44.109587Z",
          "shell.execute_reply": "2022-03-08T02:28:44.120866Z"
        },
        "trusted": true
      },
      "execution_count": null,
      "outputs": []
    },
    {
      "cell_type": "markdown",
      "source": [
        "## 5.3 One-hot Encoding 🔧\n",
        "👉 In this section, I will **transform categorical variables into a form that could be provided by ML algorithms to do a better prediction.**"
      ],
      "metadata": {
        "id": "svjroAn8KInZ"
      }
    },
    {
      "cell_type": "code",
      "source": [
        "df = pd.get_dummies(df)\n",
        "\n",
        "# Drop columns\n",
        "df = df.drop(['Gender_Female', 'Married_No', 'Education_Not Graduate',\n",
        "              'Self_Employed_No', 'Loan_Status_N'], axis = 1)\n",
        "\n",
        "# Rename columns name\n",
        "new = {'Gender_Male': 'Gender', 'Married_Yes': 'Married',\n",
        "       'Education_Graduate': 'Education', 'Self_Employed_Yes': 'Self_Employed',\n",
        "       'Loan_Status_Y': 'Loan_Status'}\n",
        "\n",
        "df.rename(columns=new, inplace=True)"
      ],
      "metadata": {
        "id": "JPrZD3MHLBJO",
        "execution": {
          "iopub.status.busy": "2022-03-08T02:28:44.123834Z",
          "iopub.execute_input": "2022-03-08T02:28:44.124643Z",
          "iopub.status.idle": "2022-03-08T02:28:44.147410Z",
          "shell.execute_reply.started": "2022-03-08T02:28:44.124603Z",
          "shell.execute_reply": "2022-03-08T02:28:44.146216Z"
        },
        "trusted": true
      },
      "execution_count": null,
      "outputs": []
    },
    {
      "cell_type": "markdown",
      "source": [
        "## 5.3 Remove Outliers & Infinite values 🚮\n",
        "👉 Since there are outliers, **the outliers will be removed**. <br>\n"
      ],
      "metadata": {
        "id": "4xekDiffkIIb"
      }
    },
    {
      "cell_type": "code",
      "source": [
        "Q1 = df.quantile(0.25)\n",
        "Q3 = df.quantile(0.75)\n",
        "IQR = Q3 - Q1\n",
        "\n",
        "df = df[~((df < (Q1 - 1.5 * IQR)) |(df > (Q3 + 1.5 * IQR))).any(axis=1)]"
      ],
      "metadata": {
        "id": "7xXzLUK4kHsf",
        "execution": {
          "iopub.status.busy": "2022-03-08T02:28:44.148939Z",
          "iopub.execute_input": "2022-03-08T02:28:44.149217Z",
          "iopub.status.idle": "2022-03-08T02:28:44.165845Z",
          "shell.execute_reply.started": "2022-03-08T02:28:44.149184Z",
          "shell.execute_reply": "2022-03-08T02:28:44.164707Z"
        },
        "trusted": true
      },
      "execution_count": null,
      "outputs": []
    },
    {
      "cell_type": "markdown",
      "source": [
        "## 5.4 Skewed Distribution Treatment 📐\n",
        "👉 In previous section, it already shown that **distribution for ApplicantIncome, CoapplicantIncome, and LoanAmount is positively skewed**. <br>\n",
        "👉 I will use **square root transformation** to normalized the distribution."
      ],
      "metadata": {
        "id": "r7hJ7w6dMlZk"
      }
    },
    {
      "cell_type": "code",
      "source": [
        "# Square Root Transformation\n",
        "\n",
        "df.ApplicantIncome = np.sqrt(df.ApplicantIncome)\n",
        "df.CoapplicantIncome = np.sqrt(df.CoapplicantIncome)\n",
        "df.LoanAmount = np.sqrt(df.LoanAmount)"
      ],
      "metadata": {
        "id": "fMwoGg5BOKjo",
        "execution": {
          "iopub.status.busy": "2022-03-08T02:28:44.167869Z",
          "iopub.execute_input": "2022-03-08T02:28:44.168861Z",
          "iopub.status.idle": "2022-03-08T02:28:44.176992Z",
          "shell.execute_reply.started": "2022-03-08T02:28:44.168808Z",
          "shell.execute_reply": "2022-03-08T02:28:44.175920Z"
        },
        "trusted": true
      },
      "execution_count": null,
      "outputs": []
    },
    {
      "cell_type": "code",
      "source": [
        "sns.set(style=\"darkgrid\")\n",
        "fig, axs = plt.subplots(2, 2, figsize=(10, 8))\n",
        "\n",
        "sns.histplot(data=df, x=\"ApplicantIncome\", kde=True, ax=axs[0, 0], color='green')\n",
        "sns.histplot(data=df, x=\"CoapplicantIncome\", kde=True, ax=axs[0, 1], color='skyblue')\n",
        "sns.histplot(data=df, x=\"LoanAmount\", kde=True, ax=axs[1, 0], color='orange');"
      ],
      "metadata": {
        "id": "5z_EKO1ITgTU",
        "outputId": "ec4e5ce5-f52f-49e0-bcf2-ef196960de2d",
        "execution": {
          "iopub.status.busy": "2022-03-08T02:28:44.178489Z",
          "iopub.execute_input": "2022-03-08T02:28:44.179956Z",
          "iopub.status.idle": "2022-03-08T02:28:45.109390Z",
          "shell.execute_reply.started": "2022-03-08T02:28:44.179886Z",
          "shell.execute_reply": "2022-03-08T02:28:45.107962Z"
        },
        "trusted": true
      },
      "execution_count": null,
      "outputs": [
        {
          "output_type": "display_data",
          "data": {
            "text/plain": "<Figure size 720x576 with 4 Axes>",
            "image/png": "[encoded data removed]"
          },
          "metadata": {}
        }
      ]
    },
    {
      "cell_type": "markdown",
      "source": [
        "👉 As can be seen, the distribution after using log transformation are much better compared to original distribution."
      ],
      "metadata": {
        "id": "RF-7s2avUipu"
      }
    },
    {
      "cell_type": "markdown",
      "source": [
        "## 5.5 Features Separating ➗\n",
        "👉 Dependent features (Loan_Status) will be seperated from independent features."
      ],
      "metadata": {
        "id": "E6V0WTjKgwFj"
      }
    },
    {
      "cell_type": "code",
      "source": [
        "X = df.drop([\"Loan_Status\"], axis=1)\n",
        "y = df[\"Loan_Status\"]"
      ],
      "metadata": {
        "id": "sJJVP_kPhZh1",
        "execution": {
          "iopub.status.busy": "2022-03-08T02:28:45.110940Z",
          "iopub.execute_input": "2022-03-08T02:28:45.111209Z",
          "iopub.status.idle": "2022-03-08T02:28:45.117839Z",
          "shell.execute_reply.started": "2022-03-08T02:28:45.111179Z",
          "shell.execute_reply": "2022-03-08T02:28:45.116948Z"
        },
        "trusted": true
      },
      "execution_count": null,
      "outputs": []
    },
    {
      "cell_type": "markdown",
      "source": [
        "## 5.6 SMOTE Technique 🔨\n",
        "👉 In previous exploration, it can be seen that **the number between approved and rejected loan is imbalanced**. In this section, **oversampling technique will be used to avoid overfitting**,"
      ],
      "metadata": {
        "id": "UpuBMRbEUx5n"
      }
    },
    {
      "cell_type": "code",
      "source": [
        "X, y = SMOTE().fit_resample(X, y)"
      ],
      "metadata": {
        "id": "FRrTxXZNU7Wg",
        "execution": {
          "iopub.status.busy": "2022-03-08T02:28:45.119077Z",
          "iopub.execute_input": "2022-03-08T02:28:45.119406Z",
          "iopub.status.idle": "2022-03-08T02:28:45.146851Z",
          "shell.execute_reply.started": "2022-03-08T02:28:45.119373Z",
          "shell.execute_reply": "2022-03-08T02:28:45.146082Z"
        },
        "trusted": true
      },
      "execution_count": null,
      "outputs": []
    },
    {
      "cell_type": "code",
      "source": [
        "sns.set_theme(style=\"darkgrid\")\n",
        "sns.countplot(y=y, data=df, palette=\"coolwarm\")\n",
        "plt.ylabel('Loan Status')\n",
        "plt.xlabel('Total')\n",
        "plt.show()"
      ],
      "metadata": {
        "id": "RVpxywzMzbQb",
        "outputId": "3b016bfb-0075-4b26-ee4a-88e5e59acfbf",
        "execution": {
          "iopub.status.busy": "2022-03-08T02:28:45.147996Z",
          "iopub.execute_input": "2022-03-08T02:28:45.148279Z",
          "iopub.status.idle": "2022-03-08T02:28:45.364316Z",
          "shell.execute_reply.started": "2022-03-08T02:28:45.148247Z",
          "shell.execute_reply": "2022-03-08T02:28:45.363398Z"
        },
        "trusted": true
      },
      "execution_count": null,
      "outputs": [
        {
          "output_type": "display_data",
          "data": {
            "text/plain": "<Figure size 432x288 with 1 Axes>",
            "image/png": "[encoded data removed]"
          },
          "metadata": {}
        }
      ]
    },
    {
      "cell_type": "markdown",
      "source": [
        "👉 As can be seen, the distrubtion of Loan status are now **balanced**."
      ],
      "metadata": {
        "id": "KS8B6JYJ0GB9"
      }
    },
    {
      "cell_type": "markdown",
      "source": [
        "## 5.7 Data Normalization ⚖\n",
        "👉 In this section, data normalization will be performed **to normalize the range of independent variables or features of data**."
      ],
      "metadata": {
        "id": "deRoCdMn0Y4S"
      }
    },
    {
      "cell_type": "code",
      "source": [
        "X = MinMaxScaler().fit_transform(X)"
      ],
      "metadata": {
        "id": "WmA2qj9y0Yqo",
        "execution": {
          "iopub.status.busy": "2022-03-08T02:28:45.365698Z",
          "iopub.execute_input": "2022-03-08T02:28:45.366079Z",
          "iopub.status.idle": "2022-03-08T02:28:45.374013Z",
          "shell.execute_reply.started": "2022-03-08T02:28:45.366029Z",
          "shell.execute_reply": "2022-03-08T02:28:45.373349Z"
        },
        "trusted": true
      },
      "execution_count": null,
      "outputs": []
    },
    {
      "cell_type": "markdown",
      "source": [
        "## 5.8 Splitting Data Set 🪓\n",
        "👉 The data set will be split into **80% train and 20% test**."
      ],
      "metadata": {
        "id": "n9-O0Q9D3XwK"
      }
    },
    {
      "cell_type": "code",
      "source": [
        "X_train, X_test, y_train, y_test = train_test_split(X, y, test_size = 0.2, random_state = 0)"
      ],
      "metadata": {
        "id": "sfenUwlr3c2Y",
        "execution": {
          "iopub.status.busy": "2022-03-08T02:28:45.375256Z",
          "iopub.execute_input": "2022-03-08T02:28:45.375483Z",
          "iopub.status.idle": "2022-03-08T02:28:45.388807Z",
          "shell.execute_reply.started": "2022-03-08T02:28:45.375455Z",
          "shell.execute_reply": "2022-03-08T02:28:45.387927Z"
        },
        "trusted": true
      },
      "execution_count": null,
      "outputs": []
    },
    {
      "cell_type": "markdown",
      "source": [
        "# 6. Models 🛠"
      ],
      "metadata": {
        "id": "3ixOkJUx3puI"
      }
    },
    {
      "cell_type": "markdown",
      "source": [
        "## 6.1 Logistic Regression"
      ],
      "metadata": {
        "id": "MS0qL8PC4K3o"
      }
    },
    {
      "cell_type": "code",
      "source": [
        "LRclassifier = LogisticRegression(solver='saga', max_iter=500, random_state=1)\n",
        "LRclassifier.fit(X_train, y_train)\n",
        "\n",
        "y_pred = LRclassifier.predict(X_test)\n",
        "\n",
        "print(classification_report(y_test, y_pred))\n",
        "print(confusion_matrix(y_test, y_pred))\n",
        "\n",
        "from sklearn.metrics import accuracy_score\n",
        "LRAcc = accuracy_score(y_pred,y_test)\n",
        "print('LR accuracy: {:.2f}%'.format(LRAcc*100))"
      ],
      "metadata": {
        "id": "Xa5A1VSf4Fgu",
        "outputId": "8b03e79f-86a0-4abf-c15e-47db0f151b0c",
        "execution": {
          "iopub.status.busy": "2022-03-08T02:28:45.390161Z",
          "iopub.execute_input": "2022-03-08T02:28:45.391439Z",
          "iopub.status.idle": "2022-03-08T02:28:45.410919Z",
          "shell.execute_reply.started": "2022-03-08T02:28:45.391364Z",
          "shell.execute_reply": "2022-03-08T02:28:45.410085Z"
        },
        "trusted": true
      },
      "execution_count": null,
      "outputs": [
        {
          "name": "stdout",
          "text": "              precision    recall  f1-score   support\n\n           0       0.83      0.87      0.85        23\n           1       0.86      0.82      0.84        22\n\n    accuracy                           0.84        45\n   macro avg       0.85      0.84      0.84        45\nweighted avg       0.84      0.84      0.84        45\n\n[[20  3]\n [ 4 18]]\nLR accuracy: 84.44%\n",
          "output_type": "stream"
        }
      ]
    },
    {
      "cell_type": "markdown",
      "source": [
        "## 6.2 K-Nearest Neighbour (KNN)"
      ],
      "metadata": {
        "id": "1taw0vyy7hu9"
      }
    },
    {
      "cell_type": "code",
      "source": [
        "scoreListknn = []\n",
        "for i in range(1,21):\n",
        "    KNclassifier = KNeighborsClassifier(n_neighbors = i)\n",
        "    KNclassifier.fit(X_train, y_train)\n",
        "    scoreListknn.append(KNclassifier.score(X_test, y_test))\n",
        "\n",
        "plt.plot(range(1,21), scoreListknn)\n",
        "plt.xticks(np.arange(1,21,1))\n",
        "plt.xlabel(\"K value\")\n",
        "plt.ylabel(\"Score\")\n",
        "plt.show()\n",
        "KNAcc = max(scoreListknn)\n",
        "print(\"KNN best accuracy: {:.2f}%\".format(KNAcc*100))"
      ],
      "metadata": {
        "id": "1c77uWXR5bwM",
        "outputId": "cc161975-009f-4f61-a175-86f581c6ae39",
        "execution": {
          "iopub.status.busy": "2022-03-08T02:28:45.412265Z",
          "iopub.execute_input": "2022-03-08T02:28:45.412650Z",
          "iopub.status.idle": "2022-03-08T02:28:45.798624Z",
          "shell.execute_reply.started": "2022-03-08T02:28:45.412618Z",
          "shell.execute_reply": "2022-03-08T02:28:45.797526Z"
        },
        "trusted": true
      },
      "execution_count": null,
      "outputs": [
        {
          "output_type": "display_data",
          "data": {
            "text/plain": "<Figure size 432x288 with 1 Axes>",
            "image/png": "[encoded data removed]"
          },
          "metadata": {}
        },
        {
          "name": "stdout",
          "text": "KNN best accuracy: 91.11%\n",
          "output_type": "stream"
        }
      ]
    },
    {
      "cell_type": "markdown",
      "source": [
        "## 6.3 Support Vector Machine (SVM)"
      ],
      "metadata": {
        "id": "sZiCQChQ8IUG"
      }
    },
    {
      "cell_type": "code",
      "source": [
        "SVCclassifier = SVC(kernel='rbf', max_iter=500)\n",
        "SVCclassifier.fit(X_train, y_train)\n",
        "\n",
        "y_pred = SVCclassifier.predict(X_test)\n",
        "\n",
        "print(classification_report(y_test, y_pred))\n",
        "print(confusion_matrix(y_test, y_pred))\n",
        "\n",
        "from sklearn.metrics import accuracy_score\n",
        "SVCAcc = accuracy_score(y_pred,y_test)\n",
        "print('SVC accuracy: {:.2f}%'.format(SVCAcc*100))"
      ],
      "metadata": {
        "id": "EaPdKhgx8RsA",
        "outputId": "9eea4d16-5f9c-49d3-feb1-5e1baf9dce68",
        "execution": {
          "iopub.status.busy": "2022-03-08T02:28:45.800593Z",
          "iopub.execute_input": "2022-03-08T02:28:45.800881Z",
          "iopub.status.idle": "2022-03-08T02:28:45.816735Z",
          "shell.execute_reply.started": "2022-03-08T02:28:45.800841Z",
          "shell.execute_reply": "2022-03-08T02:28:45.815706Z"
        },
        "trusted": true
      },
      "execution_count": null,
      "outputs": [
        {
          "name": "stdout",
          "text": "              precision    recall  f1-score   support\n\n           0       0.87      0.87      0.87        23\n           1       0.86      0.86      0.86        22\n\n    accuracy                           0.87        45\n   macro avg       0.87      0.87      0.87        45\nweighted avg       0.87      0.87      0.87        45\n\n[[20  3]\n [ 3 19]]\nSVC accuracy: 86.67%\n",
          "output_type": "stream"
        }
      ]
    },
    {
      "cell_type": "markdown",
      "source": [
        "## 6.4 Naive Bayes"
      ],
      "metadata": {
        "id": "W5bkW7Ez9EQw"
      }
    },
    {
      "cell_type": "markdown",
      "source": [
        "### 6.4.1 Categorical NB"
      ],
      "metadata": {
        "id": "z9iKq1Xy9fmw"
      }
    },
    {
      "cell_type": "code",
      "source": [
        "NBclassifier1 = CategoricalNB()\n",
        "NBclassifier1.fit(X_train, y_train)\n",
        "\n",
        "y_pred = NBclassifier1.predict(X_test)\n",
        "\n",
        "print(classification_report(y_test, y_pred))\n",
        "print(confusion_matrix(y_test, y_pred))\n",
        "\n",
        "from sklearn.metrics import accuracy_score\n",
        "NBAcc1 = accuracy_score(y_pred,y_test)\n",
        "print('Categorical Naive Bayes accuracy: {:.2f}%'.format(NBAcc1*100))"
      ],
      "metadata": {
        "id": "OMt6iovq9D4Z",
        "outputId": "e540b802-c9e4-46e9-f5fe-a0a81137559f",
        "execution": {
          "iopub.status.busy": "2022-03-08T02:28:45.818198Z",
          "iopub.execute_input": "2022-03-08T02:28:45.819728Z",
          "iopub.status.idle": "2022-03-08T02:28:45.839794Z",
          "shell.execute_reply.started": "2022-03-08T02:28:45.819661Z",
          "shell.execute_reply": "2022-03-08T02:28:45.838814Z"
        },
        "trusted": true
      },
      "execution_count": null,
      "outputs": [
        {
          "name": "stdout",
          "text": "              precision    recall  f1-score   support\n\n           0       0.81      0.74      0.77        23\n           1       0.75      0.82      0.78        22\n\n    accuracy                           0.78        45\n   macro avg       0.78      0.78      0.78        45\nweighted avg       0.78      0.78      0.78        45\n\n[[17  6]\n [ 4 18]]\nCategorical Naive Bayes accuracy: 77.78%\n",
          "output_type": "stream"
        }
      ]
    },
    {
      "cell_type": "markdown",
      "source": [
        "### 6.4.2 Gaussian NB"
      ],
      "metadata": {
        "id": "bjlQpJN59UbD"
      }
    },
    {
      "cell_type": "code",
      "source": [
        "NBclassifier2 = GaussianNB()\n",
        "NBclassifier2.fit(X_train, y_train)\n",
        "\n",
        "y_pred = NBclassifier2.predict(X_test)\n",
        "\n",
        "print(classification_report(y_test, y_pred))\n",
        "print(confusion_matrix(y_test, y_pred))\n",
        "\n",
        "from sklearn.metrics import accuracy_score\n",
        "NBAcc2 = accuracy_score(y_pred,y_test)\n",
        "print('Gaussian Naive Bayes accuracy: {:.2f}%'.format(NBAcc2*100))"
      ],
      "metadata": {
        "id": "RJv2_DVl9Tn8",
        "outputId": "ccdeb68c-b960-4824-e00f-acc78366a610",
        "execution": {
          "iopub.status.busy": "2022-03-08T02:28:45.841088Z",
          "iopub.execute_input": "2022-03-08T02:28:45.841403Z",
          "iopub.status.idle": "2022-03-08T02:28:45.858580Z",
          "shell.execute_reply.started": "2022-03-08T02:28:45.841369Z",
          "shell.execute_reply": "2022-03-08T02:28:45.857579Z"
        },
        "trusted": true
      },
      "execution_count": null,
      "outputs": [
        {
          "name": "stdout",
          "text": "              precision    recall  f1-score   support\n\n           0       0.77      0.87      0.82        23\n           1       0.84      0.73      0.78        22\n\n    accuracy                           0.80        45\n   macro avg       0.81      0.80      0.80        45\nweighted avg       0.80      0.80      0.80        45\n\n[[20  3]\n [ 6 16]]\nGaussian Naive Bayes accuracy: 80.00%\n",
          "output_type": "stream"
        }
      ]
    },
    {
      "cell_type": "markdown",
      "source": [
        "## 6.5 Decision Tree"
      ],
      "metadata": {
        "id": "cnen-6ZD9ZWc"
      }
    },
    {
      "cell_type": "code",
      "source": [
        "scoreListDT = []\n",
        "for i in range(2,21):\n",
        "    DTclassifier = DecisionTreeClassifier(max_leaf_nodes=i)\n",
        "    DTclassifier.fit(X_train, y_train)\n",
        "    scoreListDT.append(DTclassifier.score(X_test, y_test))\n",
        "\n",
        "plt.plot(range(2,21), scoreListDT)\n",
        "plt.xticks(np.arange(2,21,1))\n",
        "plt.xlabel(\"Leaf\")\n",
        "plt.ylabel(\"Score\")\n",
        "plt.show()\n",
        "DTAcc = max(scoreListDT)\n",
        "print(\"Decision Tree Accuracy: {:.2f}%\".format(DTAcc*100))"
      ],
      "metadata": {
        "id": "twABLtSw9icG",
        "outputId": "d7fccec0-b734-41ee-fc47-668aad7f7466",
        "execution": {
          "iopub.status.busy": "2022-03-08T02:28:45.860068Z",
          "iopub.execute_input": "2022-03-08T02:28:45.860894Z",
          "iopub.status.idle": "2022-03-08T02:28:46.411716Z",
          "shell.execute_reply.started": "2022-03-08T02:28:45.860842Z",
          "shell.execute_reply": "2022-03-08T02:28:46.410654Z"
        },
        "trusted": true
      },
      "execution_count": null,
      "outputs": [
        {
          "output_type": "display_data",
          "data": {
            "text/plain": "<Figure size 432x288 with 1 Axes>",
            "image/png": "[encoded data removed]"
          },
          "metadata": {}
        },
        {
          "name": "stdout",
          "text": "Decision Tree Accuracy: 86.67%\n",
          "output_type": "stream"
        }
      ]
    },
    {
      "cell_type": "markdown",
      "source": [
        "## 6.6 Random Forest"
      ],
      "metadata": {
        "id": "GfW_OJU69opG"
      }
    },
    {
      "cell_type": "code",
      "source": [
        "scoreListRF = []\n",
        "for i in range(2,25):\n",
        "    RFclassifier = RandomForestClassifier(n_estimators = 1000, random_state = 1, max_leaf_nodes=i)\n",
        "    RFclassifier.fit(X_train, y_train)\n",
        "    scoreListRF.append(RFclassifier.score(X_test, y_test))\n",
        "\n",
        "plt.plot(range(2,25), scoreListRF)\n",
        "plt.xticks(np.arange(2,25,1))\n",
        "plt.xlabel(\"RF Value\")\n",
        "plt.ylabel(\"Score\")\n",
        "plt.show()\n",
        "RFAcc = max(scoreListRF)\n",
        "print(\"Random Forest Accuracy:  {:.2f}%\".format(RFAcc*100))"
      ],
      "metadata": {
        "id": "TnLwqYnP9pD7",
        "outputId": "1f94c144-81b1-4f57-973f-e150b09a656b",
        "execution": {
          "iopub.status.busy": "2022-03-08T02:28:46.412985Z",
          "iopub.execute_input": "2022-03-08T02:28:46.413245Z",
          "iopub.status.idle": "2022-03-08T02:29:19.705356Z",
          "shell.execute_reply.started": "2022-03-08T02:28:46.413213Z",
          "shell.execute_reply": "2022-03-08T02:29:19.704417Z"
        },
        "trusted": true
      },
      "execution_count": null,
      "outputs": [
        {
          "output_type": "display_data",
          "data": {
            "text/plain": "<Figure size 432x288 with 1 Axes>",
            "image/png": "[encoded data removed]"
          },
          "metadata": {}
        },
        {
          "name": "stdout",
          "text": "Random Forest Accuracy:  93.33%\n",
          "output_type": "stream"
        }
      ]
    },
    {
      "cell_type": "markdown",
      "source": [
        "## 6.7 Gradient Boosting"
      ],
      "metadata": {
        "id": "2AszJDft-gc6"
      }
    },
    {
      "cell_type": "code",
      "source": [
        "paramsGB={'n_estimators':[100,200,300,400,500],\n",
        "      'max_depth':[1,2,3,4,5],\n",
        "      'subsample':[0.5,1],\n",
        "      'max_leaf_nodes':[2,5,10,20,30,40,50]}"
      ],
      "metadata": {
        "id": "Ev-NFeI0-WcW",
        "execution": {
          "iopub.status.busy": "2022-03-08T02:29:19.706813Z",
          "iopub.execute_input": "2022-03-08T02:29:19.707335Z",
          "iopub.status.idle": "2022-03-08T02:29:19.714536Z",
          "shell.execute_reply.started": "2022-03-08T02:29:19.707288Z",
          "shell.execute_reply": "2022-03-08T02:29:19.712973Z"
        },
        "trusted": true
      },
      "execution_count": null,
      "outputs": []
    },
    {
      "cell_type": "code",
      "source": [
        "GB = RandomizedSearchCV(GradientBoostingClassifier(), paramsGB, cv=20)\n",
        "GB.fit(X_train, y_train)"
      ],
      "metadata": {
        "id": "r46JuovY-j9z",
        "outputId": "d6f0a481-719d-43dd-faa6-548f08d6ab46",
        "execution": {
          "iopub.status.busy": "2022-03-08T02:29:19.716086Z",
          "iopub.execute_input": "2022-03-08T02:29:19.716538Z",
          "iopub.status.idle": "2022-03-08T02:29:58.801788Z",
          "shell.execute_reply.started": "2022-03-08T02:29:19.716488Z",
          "shell.execute_reply": "2022-03-08T02:29:58.800888Z"
        },
        "trusted": true
      },
      "execution_count": null,
      "outputs": [
        {
          "execution_count": 62,
          "output_type": "execute_result",
          "data": {
            "text/plain": "RandomizedSearchCV(cv=20, estimator=GradientBoostingClassifier(),\n                   param_distributions={'max_depth': [1, 2, 3, 4, 5],\n                                        'max_leaf_nodes': [2, 5, 10, 20, 30, 40,\n                                                           50],\n                                        'n_estimators': [100, 200, 300, 400,\n                                                         500],\n                                        'subsample': [0.5, 1]})"
          },
          "metadata": {}
        }
      ]
    },
    {
      "cell_type": "code",
      "source": [
        "print(GB.best_estimator_)\n",
        "print(GB.best_score_)\n",
        "print(GB.best_params_)\n",
        "print(GB.best_index_)"
      ],
      "metadata": {
        "id": "y-rIVPNu-qyZ",
        "outputId": "d66c9ccc-6e48-4737-9a10-c10afd3331b6",
        "execution": {
          "iopub.status.busy": "2022-03-08T02:29:58.802937Z",
          "iopub.execute_input": "2022-03-08T02:29:58.803165Z",
          "iopub.status.idle": "2022-03-08T02:29:58.809530Z",
          "shell.execute_reply.started": "2022-03-08T02:29:58.803123Z",
          "shell.execute_reply": "2022-03-08T02:29:58.808579Z"
        },
        "trusted": true
      },
      "execution_count": null,
      "outputs": [
        {
          "name": "stdout",
          "text": "GradientBoostingClassifier(max_depth=4, max_leaf_nodes=50, n_estimators=400,\n                           subsample=1)\n0.8270833333333332\n{'subsample': 1, 'n_estimators': 400, 'max_leaf_nodes': 50, 'max_depth': 4}\n9\n",
          "output_type": "stream"
        }
      ]
    },
    {
      "cell_type": "code",
      "source": [
        "GBclassifier = GradientBoostingClassifier(subsample=0.5, n_estimators=400, max_depth=4, max_leaf_nodes=10)\n",
        "GBclassifier.fit(X_train, y_train)\n",
        "\n",
        "y_pred = GBclassifier.predict(X_test)\n",
        "\n",
        "print(classification_report(y_test, y_pred))\n",
        "print(confusion_matrix(y_test, y_pred))\n",
        "\n",
        "from sklearn.metrics import accuracy_score\n",
        "GBAcc = accuracy_score(y_pred,y_test)\n",
        "print('Gradient Boosting accuracy: {:.2f}%'.format(GBAcc*100))"
      ],
      "metadata": {
        "id": "anLZFMBWAPAG",
        "outputId": "07469f40-36a5-4153-d89a-973409f384e2",
        "execution": {
          "iopub.status.busy": "2022-03-08T02:29:58.811156Z",
          "iopub.execute_input": "2022-03-08T02:29:58.811818Z",
          "iopub.status.idle": "2022-03-08T02:29:59.167884Z",
          "shell.execute_reply.started": "2022-03-08T02:29:58.811774Z",
          "shell.execute_reply": "2022-03-08T02:29:59.166931Z"
        },
        "trusted": true
      },
      "execution_count": null,
      "outputs": [
        {
          "name": "stdout",
          "text": "              precision    recall  f1-score   support\n\n           0       0.77      0.87      0.82        23\n           1       0.84      0.73      0.78        22\n\n    accuracy                           0.80        45\n   macro avg       0.81      0.80      0.80        45\nweighted avg       0.80      0.80      0.80        45\n\n[[20  3]\n [ 6 16]]\nGradient Boosting accuracy: 80.00%\n",
          "output_type": "stream"
        }
      ]
    },
    {
      "cell_type": "markdown",
      "source": [
        "# 7. Model Comparison 👀"
      ],
      "metadata": {
        "id": "x1vw6r9ICK8J"
      }
    },
    {
      "cell_type": "code",
      "source": [
        "compare = pd.DataFrame({'Model': ['Logistic Regression', 'K Neighbors',\n",
        "                                  'SVM', 'Categorical NB',\n",
        "                                  'Gaussian NB', 'Decision Tree',\n",
        "                                  'Random Forest', 'Gradient Boost'],\n",
        "                        'Accuracy': [LRAcc*100, KNAcc*100, SVCAcc*100,\n",
        "                                     NBAcc1*100, NBAcc2*100, DTAcc*100,\n",
        "                                     RFAcc*100, GBAcc*100]})\n",
        "compare.sort_values(by='Accuracy', ascending=False)"
      ],
      "metadata": {
        "id": "SGzOLxRMArx0",
        "outputId": "2f1341e3-685a-47a5-8785-4930b1de7da3",
        "execution": {
          "iopub.status.busy": "2022-03-08T02:29:59.169277Z",
          "iopub.execute_input": "2022-03-08T02:29:59.169877Z",
          "iopub.status.idle": "2022-03-08T02:29:59.184409Z",
          "shell.execute_reply.started": "2022-03-08T02:29:59.169833Z",
          "shell.execute_reply": "2022-03-08T02:29:59.183302Z"
        },
        "trusted": true
      },
      "execution_count": null,
      "outputs": [
        {
          "execution_count": 65,
          "output_type": "execute_result",
          "data": {
            "text/plain": "                 Model   Accuracy\n6        Random Forest  93.333333\n1          K Neighbors  91.111111\n2                  SVM  86.666667\n5        Decision Tree  86.666667\n0  Logistic Regression  84.444444\n4          Gaussian NB  80.000000\n7       Gradient Boost  80.000000\n3       Categorical NB  77.777778",
            "text/html": "<div>\n<style scoped>\n    .dataframe tbody tr th:only-of-type {\n        vertical-align: middle;\n    }\n\n    .dataframe tbody tr th {\n        vertical-align: top;\n    }\n\n    .dataframe thead th {\n        text-align: right;\n    }\n</style>\n<table border=\"1\" class=\"dataframe\">\n  <thead>\n    <tr style=\"text-align: right;\">\n      <th></th>\n      <th>Model</th>\n      <th>Accuracy</th>\n    </tr>\n  </thead>\n  <tbody>\n    <tr>\n      <th>6</th>\n      <td>Random Forest</td>\n      <td>93.333333</td>\n    </tr>\n    <tr>\n      <th>1</th>\n      <td>K Neighbors</td>\n      <td>91.111111</td>\n    </tr>\n    <tr>\n      <th>2</th>\n      <td>SVM</td>\n      <td>86.666667</td>\n    </tr>\n    <tr>\n      <th>5</th>\n      <td>Decision Tree</td>\n      <td>86.666667</td>\n    </tr>\n    <tr>\n      <th>0</th>\n      <td>Logistic Regression</td>\n      <td>84.444444</td>\n    </tr>\n    <tr>\n      <th>4</th>\n      <td>Gaussian NB</td>\n      <td>80.000000</td>\n    </tr>\n    <tr>\n      <th>7</th>\n      <td>Gradient Boost</td>\n      <td>80.000000</td>\n    </tr>\n    <tr>\n      <th>3</th>\n      <td>Categorical NB</td>\n      <td>77.777778</td>\n    </tr>\n  </tbody>\n</table>\n</div>"
          },
          "metadata": {}
        }
      ]
    },
    {
      "cell_type": "markdown",
      "source": [
        "👉 In general, it can be seen that **all models can achieve up to 70% accuracy**. <br>\n",
        "👉 The highest accuracy is **93%%**. <br><br>\n"
      ],
      "metadata": {
        "id": "_5Iao5hYCOsI"
      }
    }
  ]
}